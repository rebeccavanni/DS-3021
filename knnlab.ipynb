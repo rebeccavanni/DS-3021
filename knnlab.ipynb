{
 "cells": [
  {
   "cell_type": "markdown",
   "metadata": {},
   "source": [
    "## Lab V: KNN\n",
    "### Rebecca Vanni - ecn2wh"
   ]
  },
  {
   "cell_type": "markdown",
   "metadata": {},
   "source": [
    "Questions:\n",
    "1. Use the question/target variable you submitted and \n",
    "build a model to answer the question you created for this dataset (make sure it is a classification problem, convert if necessary). \n",
    "\n",
    "2. Build a kNN model to predict your target variable using 3 nearest neighbors. Make sure it is a classification problem, meaning\n",
    "if needed changed the target variable.\n",
    "\n",
    "3. Create a dataframe that includes the test target values, test predicted values, \n",
    "and test probabilities of the positive class.\n",
    "\n",
    "4. No code question: If you adjusted the k hyperparameter what do you think would\n",
    "happen to the threshold function? Would the confusion look the same at the same threshold \n",
    "levels or not? Why or why not?\n",
    "\n",
    "5. Evaluate the results using the confusion matrix. Then \"walk\" through your question, summarize what \n",
    "concerns or positive elements do you have about the model as it relates to your question? \n",
    "\n",
    "6. Create two functions: One that cleans the data & splits into training|test and one that \n",
    "allows you to train and test the model with different k and threshold values, then use them to \n",
    "optimize your model (test your model with several k and threshold combinations). Try not to use variable names \n",
    "in the functions, but if you need to that's fine. (If you can't get the k function and threshold function to work in one\n",
    "function just run them separately.) \n",
    "\n",
    "7. How well does the model perform? Did the interaction of the adjusted thresholds and k values help the model? Why or why not? \n",
    "\n",
    "8. Choose another variable as the target in the dataset and create another kNN model using the two functions you created in\n",
    "step 7. "
   ]
  },
  {
   "cell_type": "code",
   "execution_count": 75,
   "metadata": {},
   "outputs": [],
   "source": [
    "#Imports\n",
    "import pandas as pd\n",
    "import numpy as np\n",
    "import matplotlib.pyplot as plt\n",
    "from sklearn.model_selection import train_test_split,cross_val_score\n",
    "from sklearn.preprocessing import MinMaxScaler, StandardScaler\n",
    "from sklearn.preprocessing import KBinsDiscretizer\n",
    "from sklearn.neighbors import KNeighborsClassifier\n"
   ]
  },
  {
   "cell_type": "markdown",
   "metadata": {},
   "source": [
    "### Question One\n",
    "Use the question/target variable you submitted and build a model to answer the question you created for this dataset (make sure it is a classification problem, convert if necessary). "
   ]
  },
  {
   "cell_type": "code",
   "execution_count": 30,
   "metadata": {},
   "outputs": [
    {
     "name": "stderr",
     "output_type": "stream",
     "text": [
      "/tmp/ipykernel_623/4090155886.py:23: SettingWithCopyWarning: \n",
      "A value is trying to be set on a copy of a slice from a DataFrame.\n",
      "Try using .loc[row_indexer,col_indexer] = value instead\n",
      "\n",
      "See the caveats in the documentation: https://pandas.pydata.org/pandas-docs/stable/user_guide/indexing.html#returning-a-view-versus-a-copy\n",
      "  df_cleaned.loc[:, \"aid_category\"] = binner.fit_transform(df_cleaned[[\"aid_value\"]]).astype(int)\n"
     ]
    },
    {
     "data": {
      "text/html": [
       "<div>\n",
       "<style scoped>\n",
       "    .dataframe tbody tr th:only-of-type {\n",
       "        vertical-align: middle;\n",
       "    }\n",
       "\n",
       "    .dataframe tbody tr th {\n",
       "        vertical-align: top;\n",
       "    }\n",
       "\n",
       "    .dataframe thead th {\n",
       "        text-align: right;\n",
       "    }\n",
       "</style>\n",
       "<table border=\"1\" class=\"dataframe\">\n",
       "  <thead>\n",
       "    <tr style=\"text-align: right;\">\n",
       "      <th></th>\n",
       "      <th>chronname</th>\n",
       "      <th>state</th>\n",
       "      <th>control</th>\n",
       "      <th>basic</th>\n",
       "      <th>aid_value</th>\n",
       "      <th>ft_pct</th>\n",
       "      <th>retain_value</th>\n",
       "      <th>grad_100_value</th>\n",
       "      <th>grad_150_value</th>\n",
       "      <th>cohort_size</th>\n",
       "      <th>aid_category</th>\n",
       "    </tr>\n",
       "  </thead>\n",
       "  <tbody>\n",
       "    <tr>\n",
       "      <th>0</th>\n",
       "      <td>Alabama A&amp;M University</td>\n",
       "      <td>Alabama</td>\n",
       "      <td>Public</td>\n",
       "      <td>Masters Colleges and Universities--larger prog...</td>\n",
       "      <td>7142.0</td>\n",
       "      <td>93.8</td>\n",
       "      <td>63.1</td>\n",
       "      <td>10.0</td>\n",
       "      <td>29.1</td>\n",
       "      <td>882.0</td>\n",
       "      <td>1</td>\n",
       "    </tr>\n",
       "    <tr>\n",
       "      <th>1</th>\n",
       "      <td>University of Alabama at Birmingham</td>\n",
       "      <td>Alabama</td>\n",
       "      <td>Public</td>\n",
       "      <td>Research Universities--very high research acti...</td>\n",
       "      <td>6088.0</td>\n",
       "      <td>72.7</td>\n",
       "      <td>80.2</td>\n",
       "      <td>29.4</td>\n",
       "      <td>53.5</td>\n",
       "      <td>1376.0</td>\n",
       "      <td>0</td>\n",
       "    </tr>\n",
       "    <tr>\n",
       "      <th>3</th>\n",
       "      <td>University of Alabama at Huntsville</td>\n",
       "      <td>Alabama</td>\n",
       "      <td>Public</td>\n",
       "      <td>Research Universities--very high research acti...</td>\n",
       "      <td>6647.0</td>\n",
       "      <td>74.4</td>\n",
       "      <td>81.0</td>\n",
       "      <td>16.5</td>\n",
       "      <td>48.4</td>\n",
       "      <td>759.0</td>\n",
       "      <td>1</td>\n",
       "    </tr>\n",
       "    <tr>\n",
       "      <th>4</th>\n",
       "      <td>Alabama State University</td>\n",
       "      <td>Alabama</td>\n",
       "      <td>Public</td>\n",
       "      <td>Masters Colleges and Universities--larger prog...</td>\n",
       "      <td>7256.0</td>\n",
       "      <td>91.0</td>\n",
       "      <td>62.2</td>\n",
       "      <td>8.8</td>\n",
       "      <td>25.2</td>\n",
       "      <td>1351.0</td>\n",
       "      <td>1</td>\n",
       "    </tr>\n",
       "    <tr>\n",
       "      <th>5</th>\n",
       "      <td>University of Alabama at Tuscaloosa</td>\n",
       "      <td>Alabama</td>\n",
       "      <td>Public</td>\n",
       "      <td>Research Universities--high research activity</td>\n",
       "      <td>10390.0</td>\n",
       "      <td>90.2</td>\n",
       "      <td>87.0</td>\n",
       "      <td>42.7</td>\n",
       "      <td>66.7</td>\n",
       "      <td>4438.0</td>\n",
       "      <td>1</td>\n",
       "    </tr>\n",
       "  </tbody>\n",
       "</table>\n",
       "</div>"
      ],
      "text/plain": [
       "                             chronname    state control  \\\n",
       "0               Alabama A&M University  Alabama  Public   \n",
       "1  University of Alabama at Birmingham  Alabama  Public   \n",
       "3  University of Alabama at Huntsville  Alabama  Public   \n",
       "4             Alabama State University  Alabama  Public   \n",
       "5  University of Alabama at Tuscaloosa  Alabama  Public   \n",
       "\n",
       "                                               basic  aid_value  ft_pct  \\\n",
       "0  Masters Colleges and Universities--larger prog...     7142.0    93.8   \n",
       "1  Research Universities--very high research acti...     6088.0    72.7   \n",
       "3  Research Universities--very high research acti...     6647.0    74.4   \n",
       "4  Masters Colleges and Universities--larger prog...     7256.0    91.0   \n",
       "5      Research Universities--high research activity    10390.0    90.2   \n",
       "\n",
       "   retain_value  grad_100_value  grad_150_value  cohort_size  aid_category  \n",
       "0          63.1            10.0            29.1        882.0             1  \n",
       "1          80.2            29.4            53.5       1376.0             0  \n",
       "3          81.0            16.5            48.4        759.0             1  \n",
       "4          62.2             8.8            25.2       1351.0             1  \n",
       "5          87.0            42.7            66.7       4438.0             1  "
      ]
     },
     "execution_count": 30,
     "metadata": {},
     "output_type": "execute_result"
    }
   ],
   "source": [
    "# Question from other lab: How to predict a public university's aid? - choice are low amount of aid or high\n",
    "\n",
    "#Cleaning and setting up data\n",
    "college_data = pd.read_csv('/workspaces/DS-3021/data/cc_institution_details.csv')\n",
    "college_data['control'] = college_data['control'].apply(lambda x: 'Private' if 'Private' in x else 'Public')\n",
    "\n",
    "target = college_data['aid_value']\n",
    "\n",
    "relevant_columns = [\"chronname\",\"state\",\"control\",\"basic\",\"aid_value\",\"ft_pct\", \"retain_value\", \"grad_100_value\",\"grad_150_value\", \"cohort_size\"]\n",
    "\n",
    "# Filter and convert data set\n",
    "df= college_data[college_data[\"control\"] == \"Public\"][relevant_columns]\n",
    "num_cols = [\"aid_value\", \"ft_pct\", \"retain_value\", \"grad_100_value\", \"grad_150_value\", \"cohort_size\"]\n",
    "for col in num_cols:\n",
    "    df[col] = pd.to_numeric(df[col], errors=\"coerce\")\n",
    "\n",
    "#Drop na\n",
    "df_cleaned = df.dropna()\n",
    "\n",
    "#making classification by creating binds for the aid type, dividing into 2, making 0, 1, (low or high aid), and same size\n",
    "binner = KBinsDiscretizer(n_bins=3, encode='ordinal', strategy='uniform')\n",
    "#applying to aid\n",
    "df_cleaned.loc[:, \"aid_category\"] = binner.fit_transform(df_cleaned[[\"aid_value\"]]).astype(int)\n",
    "df_cleaned.head()\n"
   ]
  },
  {
   "cell_type": "markdown",
   "metadata": {},
   "source": [
    "### Question Two\n",
    "Build a kNN model to predict your target variable using 3 nearest neighbors. Make sure it is a classification problem, meaning\n",
    "if needed changed the target variable."
   ]
  },
  {
   "cell_type": "code",
   "execution_count": 31,
   "metadata": {},
   "outputs": [
    {
     "data": {
      "image/png": "[encoded data removed]",
      "text/plain": [
       "<Figure size 640x480 with 2 Axes>"
      ]
     },
     "metadata": {},
     "output_type": "display_data"
    }
   ],
   "source": [
    "\n",
    "\n",
    "# Define features and target variable\n",
    "features = [\"ft_pct\", \"retain_value\", \"grad_100_value\", \"grad_150_value\", \"cohort_size\"]\n",
    "X = df_cleaned[features]\n",
    "y = df_cleaned[\"aid_category\"]\n",
    "\n",
    "#split data \n",
    "X_train, X_test, y_train, y_test = train_test_split(X, y, test_size=0.2, random_state=42, stratify=y)\n",
    "\n",
    "#train, neighbors =3\n",
    "knn = KNeighborsClassifier(n_neighbors=3)\n",
    "knn.fit(X_train, y_train)\n",
    "\n",
    "#predict\n",
    "knn.score(X_test, y_test)\n",
    "X_val = X_test\n",
    "y_val = y_test\n",
    "knn.score(X_val, y_val)\n",
    "\n",
    "#evaluate \n",
    "from sklearn.metrics import ConfusionMatrixDisplay\n",
    "ConfusionMatrixDisplay.from_estimator(knn, X_val, y_val, cmap='Reds')\n",
    "plt.show()"
   ]
  },
  {
   "cell_type": "markdown",
   "metadata": {},
   "source": [
    "### Question Three\n",
    "Create a data frame that includes the test target values, test predicted values,and test probabilities of the positive class."
   ]
  },
  {
   "cell_type": "code",
   "execution_count": 32,
   "metadata": {},
   "outputs": [
    {
     "name": "stdout",
     "output_type": "stream",
     "text": [
      "      y_test  y_pred    y_prob\n",
      "1456       0       1  0.666667\n",
      "1834       0       0  0.333333\n",
      "915        0       0  0.000000\n",
      "121        1       1  1.000000\n",
      "2619       1       0  0.000000\n",
      "2665       0       0  0.000000\n",
      "2043       1       0  0.000000\n",
      "360        0       0  0.000000\n",
      "1204       0       0  0.000000\n",
      "2970       1       0  0.000000\n"
     ]
    }
   ],
   "source": [
    "\n",
    "# get the positive probabilities \n",
    "y_prob = knn.predict_proba(X_test)[:, 1]\n",
    "\n",
    "# creating the df\n",
    "result_df = pd.DataFrame({'y_test': y_test,'y_pred': y_pred,'y_prob': y_prob})\n",
    "print(result_df.head(10))"
   ]
  },
  {
   "cell_type": "markdown",
   "metadata": {},
   "source": [
    "### Question Four\n",
    "No code question: If you adjusted the k hyperparameter what do you think would happen to the threshold function? Would the confusion look the same at the same threshold levels or not? Why or why not?\n",
    "\n",
    "I think the threshold function would become smoother and be less complex more general. As the function bases its classification on wider trends rather then the specific points near by. The confusion would not look the same at threshold levels. This is because the model is becoming less specific, fewer extreme incorrect classifications. But there would be reduced specificity, making the model closer to overfitting. "
   ]
  },
  {
   "cell_type": "markdown",
   "metadata": {},
   "source": [
    "### Question Five\n",
    "Evaluate the results using the confusion matrix. Then \"walk\" through your question, summarize what concerns or positive elements do you have about the model as it relates to your question? \n",
    "\n",
    "My question was \"Can we predict the level of aid (low, medium high) that a public university will provide based on their retention rate, student body size, graduation rate, and state?\" Aid was used as the target for classification, with three bins of low, medium, and high aid. Some issues that could be in the model are the amount in each class. The model did well in low classification, and not as well for medium. While the high class didn't have as many instances which prevented the model from being as successful predicting. Some of the features chosen like retention could not contribute to aid as much which creates noise for the model. Also could adjust k to get a better model evaluation. Finally, a positive element would be the model had a good accuracy of 75% which suggest a correlation. \n"
   ]
  },
  {
   "cell_type": "code",
   "execution_count": 33,
   "metadata": {},
   "outputs": [
    {
     "data": {
      "image/png": "[encoded data removed]",
      "text/plain": [
       "<Figure size 640x480 with 2 Axes>"
      ]
     },
     "metadata": {},
     "output_type": "display_data"
    },
    {
     "name": "stdout",
     "output_type": "stream",
     "text": [
      "0.7533333333333333\n"
     ]
    }
   ],
   "source": [
    "ConfusionMatrixDisplay.from_estimator(knn, X_val, y_val, cmap='Blues')\n",
    "plt.show()\n",
    "\n",
    "score = knn.score(X_val, y_val)\n",
    "print(score)\n"
   ]
  },
  {
   "cell_type": "markdown",
   "metadata": {},
   "source": [
    "### Question Six\n",
    "Create two functions: One that cleans the data & splits into training|test and one that allows you to train and test the model with different k and threshold values, then use them to optimize your model (test your model with several k and threshold combinations). Try not to use variable names in the functions, but if you need to that's fine. (If you can't get the k function and threshold function to work in one function just run them separately.) "
   ]
  },
  {
   "cell_type": "code",
   "execution_count": 78,
   "metadata": {},
   "outputs": [
    {
     "name": "stdout",
     "output_type": "stream",
     "text": [
      "The best k is: 19\n",
      "Test set accuracy with best k: 81.67%\n"
     ]
    }
   ],
   "source": [
    "#df = data frame\n",
    "#target = string that relates to a column name that will be used as target for classification\n",
    "#features = what are being used to predict what the target will be (other column names)\n",
    "#test = test size, 80 20 train test split\n",
    "#num_bins, how the target variables will be split (3 bins)\n",
    "\n",
    "def clean_data(df, target, features, test_size=0.2, num_bins=3):\n",
    "    # normalizing the numerical features\n",
    "    scaler = MinMaxScaler()\n",
    "    df[features] = scaler.fit_transform(df[features])\n",
    "    # make target into classification variable\n",
    "    binner = KBinsDiscretizer(n_bins=num_bins, encode='ordinal', strategy='uniform')\n",
    "    df[\"target\"] = binner.fit_transform(df[[target]]).astype(int)\n",
    "    # split the data\n",
    "    X = df[features]\n",
    "    y = df[\"target\"]\n",
    "    X_train, X_test, y_train, y_test = train_test_split(X, y, test_size=test_size, random_state=42, stratify=y)\n",
    "    return X_train, X_test, y_train, y_test\n",
    "\n",
    "# This function will allow different k and threshold values\n",
    "def train_test_knn(X_train, X_test, y_train, y_test, k_values):\n",
    "    #creating a dictionary for the values to be stored in for each k\n",
    "    results = {}\n",
    "    cv_scores = []\n",
    "    #for loop that goes through the k values increasing until reach last k of k_values\n",
    "    for k in k_values:\n",
    "        knn = KNeighborsClassifier(n_neighbors=k)\n",
    "        scores = cross_val_score(knn, X_train, y_train, cv=10, scoring='accuracy')\n",
    "        cv_scores.append(scores.mean())\n",
    "        knn.fit(X_train, y_train)\n",
    "        #creating the results which is the score\n",
    "        accu = knn.score(X_test, y_test)\n",
    "        results[k] = accu\n",
    "        \n",
    "    return results, cv_scores\n",
    "\n",
    "\n",
    "#setting up data for the function\n",
    "relevant_columns = [\"chronname\", \"state\", \"control\", \"basic\", \"aid_value\", \"ft_pct\", \"retain_value\", \"grad_100_value\", \"grad_150_value\", \"cohort_size\"]\n",
    "df_cleaned = df[df[\"control\"] == \"Public\"][relevant_columns]\n",
    "df_cleaned = df_cleaned.dropna()\n",
    "num_cols = [\"aid_value\", \"ft_pct\", \"retain_value\", \"grad_100_value\", \"grad_150_value\", \"cohort_size\"]\n",
    "\n",
    "# Define features for the model\n",
    "features = [\"ft_pct\", \"retain_value\", \"grad_100_value\", \"grad_150_value\", \"cohort_size\"]\n",
    "target = \"aid_value\"\n",
    "\n",
    "# Clean and use function\n",
    "X_train, X_test, y_train, y_test = clean_data(df_cleaned, target, features)\n",
    "\n",
    "# getting the results of the model\n",
    "k_values = [1,2,3,4,5,6,7,8,9,10,11,12,13,14,15,16,17,18,19,20]\n",
    "results,cv_scores = train_test_knn(X_train, X_test, y_train, y_test, k_values)\n",
    "\n",
    "# finding the best preforming k\n",
    "best_k = k_values[np.argmax(cv_scores)]\n",
    "best_accuracy = max(cv_scores)\n",
    "\n",
    "knn = KNeighborsClassifier(n_neighbors=best_k)\n",
    "knn.fit(X_train, y_train)\n",
    "test_accuracy = knn.score(X_test, y_test)\n",
    "print(f\"The best k is: {best_k}\")\n",
    "print(f\"Test set accuracy with best k: {test_accuracy:.2%}\")\n"
   ]
  },
  {
   "cell_type": "markdown",
   "metadata": {},
   "source": [
    "### Question Seven\n",
    "How well does the model perform? Did the interaction of the adjusted thresholds and k values help the model? Why or why not?\n",
    "\n",
    "The model preforms pretty well. Ending up with a maximum accuracy of 81.67%. The k value best is 19. Yes the interaction of adjusted thresholds and k values helped the model as the accuracy went from 75% to 81.67% therefore making it better equipped to calculate the groups. Class 0 is very well classified with this model. At k=7 the model is better able to generalize and ignore the noise. Could still preform better with the other classifications (1 and 2). But overall did very well. "
   ]
  },
  {
   "cell_type": "markdown",
   "metadata": {},
   "source": [
    "### Question Eight\n",
    "Choose another variable as the target in the dataset and create another kNN model using the two functions you created in\n",
    "step 7."
   ]
  },
  {
   "cell_type": "code",
   "execution_count": null,
   "metadata": {},
   "outputs": [
    {
     "name": "stdout",
     "output_type": "stream",
     "text": [
      "The best k is: 1\n",
      "Test set accuracy with best k: 100.00%\n"
     ]
    }
   ],
   "source": [
    "#Question: Is a university public or private based on the number of students, aid provided, graduation rate, state.\n",
    "#new target variable is public vs private university \n",
    "#features: \n",
    "\n",
    "df[\"control\"] = df[\"control\"].apply(lambda x: \"Private\" if \"Private\" in x else \"Public\")\n",
    "relevant_columns = [\"chronname\", \"state\", \"control\", \"basic\", \"aid_value\", \"ft_pct\", \"retain_value\", \"grad_100_value\", \"grad_150_value\", \"cohort_size\"]\n",
    "df_cleaned = df[relevant_columns].dropna()\n",
    "df_cleaned[\"control\"] = df_cleaned[\"control\"].map({\"Private\": 1, \"Public\": 0})\n",
    "\n",
    "# function without bins\n",
    "def clean_data_2(df, target, features, test_size=0.2):\n",
    "    scaler = MinMaxScaler()\n",
    "    df[features] = scaler.fit_transform(df[features])\n",
    "    X = df[features]\n",
    "    y = df[target]\n",
    "    X_train, X_test, y_train, y_test = train_test_split(X, y, test_size=test_size, random_state=42, stratify=y)\n",
    "    \n",
    "    return X_train, X_test, y_train, y_test\n",
    "\n",
    "features = [\"ft_pct\", \"retain_value\", \"grad_100_value\", \"grad_150_value\", \"cohort_size\", \"aid_value\"]\n",
    "target = \"control\"\n",
    "X_train, X_test, y_train, y_test = clean_data_2(df_cleaned, target, features)\n",
    "k_values = list(range(1, 21))  # Test k from 1 to 20\n",
    "results,cv_scores = train_test_knn(X_train, X_test, y_train, y_test, k_values)\n",
    "\n",
    "# finding the best preforming k\n",
    "best_k = k_values[np.argmax(cv_scores)]\n",
    "best_accuracy = max(cv_scores)\n",
    "knn = KNeighborsClassifier(n_neighbors=best_k)\n",
    "knn.fit(X_train, y_train)\n",
    "test_accuracy = knn.score(X_test, y_test)\n",
    "print(f\"The best k is: {best_k}\")\n",
    "print(f\"Test set accuracy with best k: {test_accuracy:.2%}\")\n",
    "\n",
    "#not sure if this model is working as well"
   ]
  }
 ],
 "metadata": {
  "kernelspec": {
   "display_name": "base",
   "language": "python",
   "name": "python3"
  },
  "language_info": {
   "codemirror_mode": {
    "name": "ipython",
    "version": 3
   },
   "file_extension": ".py",
   "mimetype": "text/x-python",
   "name": "python",
   "nbconvert_exporter": "python",
   "pygments_lexer": "ipython3",
   "version": "3.10.14"
  }
 },
 "nbformat": 4,
 "nbformat_minor": 2
}
