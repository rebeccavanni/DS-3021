{
 "cells": [
  {
   "cell_type": "markdown",
   "id": "984d7a11-21b4-4c0c-aa08-948cc7f3b969",
   "metadata": {},
   "source": [
    "# Linear Models\n",
    "## Foundations of Machine Learning"
   ]
  },
  {
   "cell_type": "code",
   "execution_count": 2,
   "id": "122d8e09-cd5b-4971-af2a-841f086d49f6",
   "metadata": {},
   "outputs": [],
   "source": [
    "import numpy as np\n",
    "import matplotlib.pyplot as plt"
   ]
  },
  {
   "cell_type": "code",
   "execution_count": 4,
   "id": "113cf1e0",
   "metadata": {},
   "outputs": [
    {
     "name": "stdout",
     "output_type": "stream",
     "text": [
      "Current Working Directory:  /workspaces/DS-3021\n"
     ]
    }
   ],
   "source": [
    "import os\n",
    "\n",
    "# Set the working directory\n",
    "os.chdir('/workspaces/DS-3021')\n",
    "\n",
    "# Verify the change\n",
    "print(\"Current Working Directory: \", os.getcwd())"
   ]
  },
  {
   "cell_type": "markdown",
   "id": "2283da74-f7ad-417b-b520-54ced151e4f8",
   "metadata": {},
   "source": [
    "## Linear Models\n",
    "- $k$ NN and $k$ MC illustrate the distinctions between regression and classification, and supervised and unsupervised learning\n",
    "- In both cases, the number of parameters available for fitting the model is really limited --- just $k$ --- and they offer almost no explanation of their results\n",
    "- Today we introduce *linear model*, which optimally weight the explanatory variables in order to predict the outcome variable\n",
    "- These are extremely powerful and easily interpreted tools\n",
    "- There are a lot of ideas and math in these notes: What's important is that you get exposed to ideas, and get the essential ideas of regression\n",
    "- You can spend the rest of your life studying regression models (general linear models, quantile regression, kernel regression, etc.): This is an entry-level discussion that focuses on prediction and the intuition/mechanics of Ordinary Least Squares\n"
   ]
  },
  {
   "cell_type": "markdown",
   "id": "0e980e76-2d58-4830-a125-c00f2183be73",
   "metadata": {},
   "source": [
    "## Math\n",
    "\n",
    "### Vector Multiplication\n",
    "- Suppose we have two vectors $x=(x_1,x_2,...x_K)$ and $b=(b_1,b_2,...,b_K)$ of equal length, $K$\n",
    "- The *dot product* or *inner product* is: \n",
    "\n",
    "$$x_1 b_1 + x_2 b_2 + ... + x_K b_K$$\n",
    "    \n",
    "\n",
    "\n",
    "So we multiply the first two entries together, the second two together, and so on, then sum all the terms.\n",
    "- Common notation for this is:\n",
    "$$\n",
    "x \\cdot b = x^\\top b = x'b = \\langle x, b \\rangle = \\sum_{k=1}^K x_k b_k\n",
    "$$"
   ]
  },
  {
   "cell_type": "markdown",
   "id": "37fdc26d-0a09-486e-87b2-78203e394aa2",
   "metadata": {},
   "source": [
    "### Dot Product and Covariance\n",
    "- Where have you seen something like this before?\n",
    "$$ \\text{cov}(x,y) = \\dfrac{1}{N} \\sum_{i=1}^N (x_i - \\bar{x})(y_i - \\bar{y}) = \\dfrac{(x-\\bar{x})\\cdot(y-\\bar{y})}{N}$$\n",
    "- The covariance is the statistical version of the dot product, centered around the means and scaled to sample size\n",
    "- The dot product is a general linear algebraic operator, but appears naturally in many places through statistics and computer science, which is why it's worth recognizing and understanding"
   ]
  },
  {
   "cell_type": "markdown",
   "id": "4e16c2d8-9fdf-45cf-85bc-d4c0ff9ddb7b",
   "metadata": {},
   "source": [
    "### Matrix Multiplication\n",
    "- If you stack rows of observations, you can multiply them all at once as follows:\n",
    "$$\n",
    "X \\cdot b =  \\left[\\begin{array}{cccc} x_{11} & x_{12} & \\dots & x_{1K} \\\\ x_{21} & x_{22} & \\dots & x_{2K}  \\\\ \\vdots & \\vdots & \\ddots & \\vdots \\\\ x_{N1} & x_{N2} & \\dots & x_{NK} \\end{array} \\right] \\cdot \\left( \\begin{array}{c} b_1 \\\\ b_2 \\\\ \\vdots \\\\ b_K \\end{array}\\right) = \\left( \\begin{array}{c} x_1 \\cdot b \\\\ x_2 \\cdot b \\\\ \\vdots \\\\ x_N \\cdot b\\end{array} \\right)\n",
    "$$\n",
    "- This is part of the motivation for \"clean\"/\"tidy\" data: We do calculations directly on the data frame. Having `NA`'s or ambiguity about what a row or column causes calculations to break down.\n"
   ]
  },
  {
   "cell_type": "markdown",
   "id": "54de37e7-0f4c-47c5-9977-8ce9b79137ae",
   "metadata": {},
   "source": [
    "## Linear Models: \n",
    "\n",
    "### Setup\n",
    "- The data include an $N \\times K$ data matrix $X$ with $N$ observations and $K$ variables, and an $N$-length vector of outcomes, $y$\n",
    "- We wish to use $X$ to explain $y$\n",
    "- In particular, we want to explain $y$ by $X$ with a linear model,\n",
    "$$\n",
    "y = X \\cdot b\n",
    "$$\n",
    "where $b$ is a $K$-length vector of *coefficients* or *weights*\n",
    "- So for $b = (b_1, b_2, ..., b_K)$, variable $k$ is multiplied by $b_k$ to scale its contribution to the prediction of $y$"
   ]
  },
  {
   "cell_type": "markdown",
   "id": "b88f570c-921c-4441-8513-825ceaf81023",
   "metadata": {},
   "source": [
    "### Prediction\n",
    "- To make a prediction for a new values $\\hat{x} = (\\hat{x}_1, \\hat{x}_2, ..., \\hat{x}_L)$, we compute the dot product:\n",
    "$$\n",
    "\\hat{y} = \\hat{x} \\cdot b = \\hat{x}_1 b_1  + \\hat{x}_2 b_2  + ... + \\hat{x}_K b_K \n",
    "$$\n",
    "- The prediction is the straightforward part: Picking the weights $b$ is the hard part."
   ]
  },
  {
   "cell_type": "markdown",
   "id": "62d9466c-74e6-46d5-84b4-71ee078c198e",
   "metadata": {},
   "source": [
    "### Prediction (continued)\n",
    "- In terms of matrix multiplication, a fitted model is a $\\hat{b}$, and the predictions are created for data $\\hat{X}$ as\n",
    "$$\n",
    "\\hat{X} \\cdot \\hat{b} =  \\left[\\begin{array}{cccc} \\hat{x}_{11} & \\hat{x}_{12} & \\dots & \\hat{x}_{1K} \\\\ \\hat{x}_{21} & \\hat{x}_{22} & \\dots & \\hat{x}_{2K}  \\\\ \\vdots & \\vdots & \\ddots & \\vdots \\\\ \\hat{x}_{N1} & \\hat{x}_{N2} & \\dots & \\hat{x}_{NK} \\end{array} \\right] \\left( \\begin{array}{c} \\hat{b}_1 \\\\ \\hat{b}_2 \\\\ \\vdots \\\\ \\hat{b}_K \\end{array}\\right) = \\left( \\begin{array}{c} \\hat{x}_1 \\cdot \\hat{b} \\\\ \\hat{x}_2 \\cdot \\hat{b} \\\\ \\vdots \\\\ \\hat{x}_N \\cdot \\hat{b}\\end{array} \\right) = \\left( \\begin{array}{c} \\hat{y}_1 \\\\ \\hat{y}_2  \\\\ \\vdots \\\\ \\hat{y}_N \\end{array} \\right)\n",
    "$$\n",
    "- On a compute, these kinds of calculations are fast and efficient, and hardware like GPUs vastly speed up matrix/dot product calculations. Even for very complex models, a linear relationship between variables often appears somewhere (neural networks are non-linear compositions/nests of linear models).\n",
    "- The next chunk of code gives a visual example of what we're talking about, for a simple model $\\hat{y} = b_0 + b_1 x$"
   ]
  },
  {
   "cell_type": "code",
   "execution_count": 5,
   "id": "07654f1b-b460-4afc-b398-568a09995641",
   "metadata": {},
   "outputs": [
    {
     "name": "stdout",
     "output_type": "stream",
     "text": [
      "b0: 0.7060512872836284 b1: 2.7455778720701285 y_hat: [12.36177845 15.34963983 18.18331483 24.98453073 13.35198091 10.26132804\n",
      "  2.96255191 14.23421092  7.74709023  6.58760009 13.49754695 20.80884308\n",
      "  8.60705585  6.69964684 19.04404051 13.88688551  4.89983961 12.74713427\n",
      " 13.98986918 19.01531689 24.78729562 16.85497859 16.84935898 20.31368756\n",
      " 16.6537522  15.16685475 25.07089918 19.93759101 14.17585769 20.76666923]\n"
     ]
    },
    {
     "data": {
      "image/png": "[encoded data removed]",
      "text/plain": [
       "<Figure size 640x480 with 1 Axes>"
      ]
     },
     "metadata": {},
     "output_type": "display_data"
    }
   ],
   "source": [
    "import numpy as np\n",
    "import matplotlib.pyplot as plt\n",
    "\n",
    "np.random.seed(500) # Set the seed for the random number generator\n",
    "N = 30\n",
    "\n",
    "x = 5 + 2*np.random.normal(0,1,size = N) # Create an x\n",
    "eps = np.random.normal(0,3,size = N) # Create noise\n",
    "b0 = -1 # Intercept coefficient\n",
    "b1 = 3 # Slope coefficient \n",
    "y = b0 + b1*x + eps # similar to regression equation, generating y values(dependent)\n",
    "\n",
    "\n",
    "def slr(x,y): # Single Linear Regression Function\n",
    "    x_bar = np.mean(x)\n",
    "    y_bar = np.mean(y)\n",
    "    b1 = np.inner(x-x_bar,y-y_bar)/np.inner(x-x_bar,x) # coefficient value\n",
    "    b0 = y_bar - b1*x_bar # intercept coef\n",
    "    y_hat = b0 + b1*x # predictions\n",
    "    residuals = y - y_hat\n",
    "    result = {'b0': b0, 'b1': b1, 'y_hat': y_hat, 'residuals': residuals}\n",
    "    print('b0:', b0, 'b1:', b1, 'y_hat:', y_hat)\n",
    "    return result\n",
    "    \n",
    "reg = slr(x,y) # Run the regression\n",
    "\n",
    "plt.scatter(x,y,label='Data')\n",
    "plt.plot(x,reg['y_hat'],label='Regression Line')\n",
    "plt.xlabel(\"X\")\n",
    "plt.ylabel(\"Y\")\n",
    "plt.legend(loc='lower right')\n",
    "plt.title('Linear Regression')\n",
    "plt.show()"
   ]
  },
  {
   "cell_type": "markdown",
   "id": "43906235-4b16-489c-9708-44102420b202",
   "metadata": {},
   "source": [
    "## Case Study: Car Prices\n",
    "- How does car age predict price?\n",
    "- I'm going to interactively look at the data, clean outliers, take transformations, and regress, somewhat sloppily, then show you what the picture looks like if you don't do these steps\n",
    "- This is a practical set of steps to take \n",
    "- My rough advice: Linear regressions is defined to approximate the **conditional expectation function** (CEF), $\\mathbb{E}[y|x]$. It is \"working\" if your line is tracking with the average value of $y$ as $x$ varies, and is failing if the line is way off the mark (typically due to 1. outliers or 2. non-linearity of the CEF in $x$, requiring further transformation of the variables)"
   ]
  },
  {
   "cell_type": "code",
   "execution_count": 6,
   "id": "4104fd15-0c52-4713-91ac-5b1c90cc55e1",
   "metadata": {},
   "outputs": [],
   "source": [
    "import pandas as pd\n",
    "import seaborn as sns\n",
    "df = pd.read_csv('data/cars_hw.csv') # Load the data\n",
    "df0 = df # Let's keep the original data around for comparison purposes"
   ]
  },
  {
   "cell_type": "code",
   "execution_count": 7,
   "id": "77435a4e",
   "metadata": {},
   "outputs": [
    {
     "data": {
      "text/html": [
       "<div>\n",
       "<style scoped>\n",
       "    .dataframe tbody tr th:only-of-type {\n",
       "        vertical-align: middle;\n",
       "    }\n",
       "\n",
       "    .dataframe tbody tr th {\n",
       "        vertical-align: top;\n",
       "    }\n",
       "\n",
       "    .dataframe thead th {\n",
       "        text-align: right;\n",
       "    }\n",
       "</style>\n",
       "<table border=\"1\" class=\"dataframe\">\n",
       "  <thead>\n",
       "    <tr style=\"text-align: right;\">\n",
       "      <th></th>\n",
       "      <th>unnamed: 0</th>\n",
       "      <th>make</th>\n",
       "      <th>make_year</th>\n",
       "      <th>color</th>\n",
       "      <th>body_type</th>\n",
       "      <th>mileage_run</th>\n",
       "      <th>no_of_owners</th>\n",
       "      <th>seating_capacity</th>\n",
       "      <th>fuel_type</th>\n",
       "      <th>transmission</th>\n",
       "      <th>transmission_type</th>\n",
       "      <th>price</th>\n",
       "    </tr>\n",
       "  </thead>\n",
       "  <tbody>\n",
       "    <tr>\n",
       "      <th>0</th>\n",
       "      <td>1</td>\n",
       "      <td>Volkswagen</td>\n",
       "      <td>2017</td>\n",
       "      <td>silver</td>\n",
       "      <td>sedan</td>\n",
       "      <td>44611</td>\n",
       "      <td>1st</td>\n",
       "      <td>5</td>\n",
       "      <td>diesel</td>\n",
       "      <td>7-Speed</td>\n",
       "      <td>Automatic</td>\n",
       "      <td>657000</td>\n",
       "    </tr>\n",
       "    <tr>\n",
       "      <th>1</th>\n",
       "      <td>2</td>\n",
       "      <td>Hyundai</td>\n",
       "      <td>2016</td>\n",
       "      <td>red</td>\n",
       "      <td>crossover</td>\n",
       "      <td>20305</td>\n",
       "      <td>1st</td>\n",
       "      <td>5</td>\n",
       "      <td>petrol</td>\n",
       "      <td>5-Speed</td>\n",
       "      <td>Manual</td>\n",
       "      <td>682000</td>\n",
       "    </tr>\n",
       "    <tr>\n",
       "      <th>2</th>\n",
       "      <td>3</td>\n",
       "      <td>Honda</td>\n",
       "      <td>2019</td>\n",
       "      <td>white</td>\n",
       "      <td>suv</td>\n",
       "      <td>29540</td>\n",
       "      <td>2nd</td>\n",
       "      <td>5</td>\n",
       "      <td>petrol</td>\n",
       "      <td>5-Speed</td>\n",
       "      <td>Manual</td>\n",
       "      <td>793000</td>\n",
       "    </tr>\n",
       "    <tr>\n",
       "      <th>3</th>\n",
       "      <td>4</td>\n",
       "      <td>Renault</td>\n",
       "      <td>2017</td>\n",
       "      <td>bronze</td>\n",
       "      <td>hatchback</td>\n",
       "      <td>35680</td>\n",
       "      <td>1st</td>\n",
       "      <td>5</td>\n",
       "      <td>petrol</td>\n",
       "      <td>5-Speed</td>\n",
       "      <td>Manual</td>\n",
       "      <td>414000</td>\n",
       "    </tr>\n",
       "    <tr>\n",
       "      <th>4</th>\n",
       "      <td>5</td>\n",
       "      <td>Hyundai</td>\n",
       "      <td>2017</td>\n",
       "      <td>orange</td>\n",
       "      <td>hatchback</td>\n",
       "      <td>25126</td>\n",
       "      <td>1st</td>\n",
       "      <td>5</td>\n",
       "      <td>petrol</td>\n",
       "      <td>5-Speed</td>\n",
       "      <td>Manual</td>\n",
       "      <td>515000</td>\n",
       "    </tr>\n",
       "  </tbody>\n",
       "</table>\n",
       "</div>"
      ],
      "text/plain": [
       "   unnamed: 0        make  make_year   color  body_type  mileage_run  \\\n",
       "0           1  Volkswagen       2017  silver      sedan        44611   \n",
       "1           2     Hyundai       2016     red  crossover        20305   \n",
       "2           3       Honda       2019   white        suv        29540   \n",
       "3           4     Renault       2017  bronze  hatchback        35680   \n",
       "4           5     Hyundai       2017  orange  hatchback        25126   \n",
       "\n",
       "  no_of_owners  seating_capacity fuel_type transmission transmission_type  \\\n",
       "0          1st                 5    diesel      7-Speed         Automatic   \n",
       "1          1st                 5    petrol      5-Speed            Manual   \n",
       "2          2nd                 5    petrol      5-Speed            Manual   \n",
       "3          1st                 5    petrol      5-Speed            Manual   \n",
       "4          1st                 5    petrol      5-Speed            Manual   \n",
       "\n",
       "    price  \n",
       "0  657000  \n",
       "1  682000  \n",
       "2  793000  \n",
       "3  414000  \n",
       "4  515000  "
      ]
     },
     "execution_count": 7,
     "metadata": {},
     "output_type": "execute_result"
    }
   ],
   "source": [
    "df.columns = df.columns.str.lower()\n",
    "df.head()  # Display the first few rows to verify the changes"
   ]
  },
  {
   "cell_type": "markdown",
   "id": "51147cf7",
   "metadata": {},
   "source": [
    "### Look at Distributions of data"
   ]
  },
  {
   "cell_type": "code",
   "execution_count": 8,
   "id": "a82a7a12",
   "metadata": {},
   "outputs": [
    {
     "data": {
      "text/plain": [
       "<Axes: >"
      ]
     },
     "execution_count": 8,
     "metadata": {},
     "output_type": "execute_result"
    },
    {
     "data": {
      "image/png": "[encoded data removed]",
      "text/plain": [
       "<Figure size 640x480 with 1 Axes>"
      ]
     },
     "metadata": {},
     "output_type": "display_data"
    }
   ],
   "source": [
    "df['price'].hist(bins=20)"
   ]
  },
  {
   "cell_type": "code",
   "execution_count": 9,
   "id": "27a753b8-c08f-497e-abde-c15554ef31ce",
   "metadata": {},
   "outputs": [
    {
     "data": {
      "text/plain": [
       "<Axes: >"
      ]
     },
     "execution_count": 9,
     "metadata": {},
     "output_type": "execute_result"
    },
    {
     "data": {
      "image/png": "[encoded data removed]",
      "text/plain": [
       "<Figure size 640x480 with 1 Axes>"
      ]
     },
     "metadata": {},
     "output_type": "display_data"
    }
   ],
   "source": [
    "df['age'] = max(df['make_year'])-df['make_year'] # Convert year to age\n",
    "df['age'].hist(bins=20) # Distribution of car age in data"
   ]
  },
  {
   "cell_type": "markdown",
   "id": "26c92745",
   "metadata": {},
   "source": [
    "### Identify and remove outliers"
   ]
  },
  {
   "cell_type": "code",
   "execution_count": 10,
   "id": "ff889623-314b-4640-b36c-ec3a39ec4cef",
   "metadata": {},
   "outputs": [
    {
     "data": {
      "text/plain": [
       "<Axes: xlabel='age', ylabel='price'>"
      ]
     },
     "execution_count": 10,
     "metadata": {},
     "output_type": "execute_result"
    },
    {
     "data": {
      "image/png": "[encoded data removed]",
      "text/plain": [
       "<Figure size 640x480 with 1 Axes>"
      ]
     },
     "metadata": {},
     "output_type": "display_data"
    }
   ],
   "source": [
    "sns.scatterplot(data=df,y='price',x='age') # We've got some outliers here"
   ]
  },
  {
   "cell_type": "markdown",
   "id": "d8b2607e",
   "metadata": {},
   "source": [
    "The arcsinh (inverse hyperbolic sine) transformation is a mathematical function used to transform data. It is particularly useful for handling data with a wide range of values, including both very small and very large numbers. The arcsinh transformation is defined as:\n",
    "\n",
    "[ \\text{arcsinh}(x) = \\ln(x + \\sqrt{x^2 + 1}) ]\n",
    "\n",
    "This transformation is similar to the logarithm but is defined for all real numbers, including zero and negative values. It is often used in fields like flow cytometry and other areas where data can span several orders of magnitude."
   ]
  },
  {
   "cell_type": "code",
   "execution_count": 11,
   "id": "48850681-19a0-494f-9ee5-52c2db7fd193",
   "metadata": {},
   "outputs": [
    {
     "data": {
      "text/plain": [
       "<Axes: xlabel='age_ihs', ylabel='price_ihs'>"
      ]
     },
     "execution_count": 11,
     "metadata": {},
     "output_type": "execute_result"
    },
    {
     "data": {
      "image/png": "[encoded data removed]",
      "text/plain": [
       "<Figure size 640x480 with 1 Axes>"
      ]
     },
     "metadata": {},
     "output_type": "display_data"
    }
   ],
   "source": [
    "# Take arcsinh transformation to rescale the variables\n",
    "df['price_ihs'] = np.arcsinh(df['price'])\n",
    "df['age_ihs'] = np.arcsinh(df['age'])\n",
    "df['mileage_ihs'] = np.arcsinh(df['mileage_run'])\n",
    "sns.scatterplot(data=df,y='price_ihs',x='age_ihs') # We've got some outliers here"
   ]
  },
  {
   "cell_type": "code",
   "execution_count": 12,
   "id": "bb1a853c-7bbe-4605-b246-99b6b5cee447",
   "metadata": {},
   "outputs": [
    {
     "data": {
      "text/plain": [
       "<Axes: >"
      ]
     },
     "execution_count": 12,
     "metadata": {},
     "output_type": "execute_result"
    },
    {
     "data": {
      "image/png": "[encoded data removed]",
      "text/plain": [
       "<Figure size 640x480 with 1 Axes>"
      ]
     },
     "metadata": {},
     "output_type": "display_data"
    }
   ],
   "source": [
    "df['price_ihs'].plot.box() # Outliers below 9"
   ]
  },
  {
   "cell_type": "code",
   "execution_count": 13,
   "id": "0ea9793e-4046-47bd-81dd-2e4a3f10e29f",
   "metadata": {},
   "outputs": [
    {
     "data": {
      "text/plain": [
       "<Axes: >"
      ]
     },
     "execution_count": 13,
     "metadata": {},
     "output_type": "execute_result"
    },
    {
     "data": {
      "image/png": "[encoded data removed]",
      "text/plain": [
       "<Figure size 640x480 with 1 Axes>"
      ]
     },
     "metadata": {},
     "output_type": "display_data"
    }
   ],
   "source": [
    "df['age_ihs'].plot.box() # Outliers above 4"
   ]
  },
  {
   "cell_type": "code",
   "execution_count": 14,
   "id": "7c4b73b6-1548-4d77-8c54-9703d99288a4",
   "metadata": {},
   "outputs": [],
   "source": [
    "# Drop outliers:\n",
    "df = df.loc[df['price_ihs']>9,:]\n",
    "df = df.loc[df['age_ihs']<4,:]"
   ]
  },
  {
   "cell_type": "code",
   "execution_count": 15,
   "id": "f23e3770-ff1a-4bb0-af11-7c2efd7be3ab",
   "metadata": {},
   "outputs": [
    {
     "data": {
      "text/plain": [
       "<Axes: xlabel='age_ihs', ylabel='price_ihs'>"
      ]
     },
     "execution_count": 15,
     "metadata": {},
     "output_type": "execute_result"
    },
    {
     "data": {
      "image/png": "[encoded data removed]",
      "text/plain": [
       "<Figure size 640x480 with 1 Axes>"
      ]
     },
     "metadata": {},
     "output_type": "display_data"
    }
   ],
   "source": [
    "sns.scatterplot(data=df,y='price_ihs',x='age_ihs')"
   ]
  },
  {
   "cell_type": "markdown",
   "id": "5eb74ec3",
   "metadata": {},
   "source": [
    "### Create and plot the regression line"
   ]
  },
  {
   "cell_type": "code",
   "execution_count": 17,
   "id": "679189f7-9a77-47bb-89c1-3c830fe626f4",
   "metadata": {},
   "outputs": [
    {
     "name": "stdout",
     "output_type": "stream",
     "text": [
      "b0: 14.876153220476128 b1: -0.3600414649870851 y_hat: 0      14.043580\n",
      "1      13.979009\n",
      "2      14.221437\n",
      "3      14.043580\n",
      "4      14.043580\n",
      "         ...    \n",
      "971    14.121970\n",
      "972    14.221437\n",
      "973    13.876508\n",
      "974    14.356385\n",
      "975    14.121970\n",
      "Name: age_ihs, Length: 976, dtype: float64\n"
     ]
    },
    {
     "data": {
      "image/png": "[encoded data removed]",
      "text/plain": [
       "<Figure size 640x480 with 1 Axes>"
      ]
     },
     "metadata": {},
     "output_type": "display_data"
    }
   ],
   "source": [
    "x = df['age_ihs']\n",
    "y = df['price_ihs']\n",
    "\n",
    "coef = slr(x,y)\n",
    "\n",
    "y_hat = coef['b0']+coef['b1']*x\n",
    "plt.scatter(x,y,label='Data')\n",
    "plt.plot(x,y_hat,label='Regression Line',color='black')\n",
    "plt.xlabel(\"X\")\n",
    "plt.ylabel(\"Y\")\n",
    "plt.legend(loc='upper right')\n",
    "plt.title('Linear Regression: Looks OK')\n",
    "\n",
    "plt.show()"
   ]
  },
  {
   "cell_type": "code",
   "execution_count": 17,
   "id": "5b0fe215-2b2f-458f-8f23-3a81aa3ec47a",
   "metadata": {},
   "outputs": [
    {
     "name": "stdout",
     "output_type": "stream",
     "text": [
      "b0: 1087735.7548561306 b1: -68835.45499177859 y_hat: 0      743558.479897\n",
      "1      674723.024905\n",
      "2      881229.389881\n",
      "3      743558.479897\n",
      "4      743558.479897\n",
      "           ...      \n",
      "971    812393.934889\n",
      "972    881229.389881\n",
      "973    537052.114922\n",
      "974    950064.844873\n",
      "975    812393.934889\n",
      "Name: age, Length: 976, dtype: float64\n"
     ]
    },
    {
     "data": {
      "image/png": "[encoded data removed]",
      "text/plain": [
       "<Figure size 640x480 with 1 Axes>"
      ]
     },
     "metadata": {},
     "output_type": "display_data"
    }
   ],
   "source": [
    "# Why bother with all that data cleaning?\n",
    "x = df0['age']\n",
    "y = df0['price']\n",
    "\n",
    "coef = slr(x,y)\n",
    "\n",
    "y_hat = coef['b0']+coef['b1']*x\n",
    "plt.scatter(x,y,label='Data')\n",
    "plt.plot(x,y_hat,label='Regression Line',color='black')\n",
    "plt.xlabel(\"X\")\n",
    "plt.ylabel(\"Y\")\n",
    "plt.legend(loc='lower left')\n",
    "plt.title('Linear Regression: Looks Bad')\n",
    "\n",
    "plt.show()"
   ]
  },
  {
   "cell_type": "markdown",
   "id": "1c9e0705-8e75-43ab-8cf2-c7717a333520",
   "metadata": {},
   "source": [
    "### Examples of how regression is used to predict\n",
    "- Predict car prices from attributes\n",
    "- Predict Airbnb rental prices from housing features\n",
    "- Predict probability of heart failure from patient characteristics\n",
    "- Predict bond and sentence from defendant demographics and criminal record\n",
    "- Predict student loan debt creation as a function of institution characteristics\n"
   ]
  },
  {
   "cell_type": "markdown",
   "id": "86037902-98c1-45a7-b4f5-e522eb12af28",
   "metadata": {},
   "source": [
    "## Errors/Residuals\n",
    "- Fitting a linear model is based on minimizing the unexplained variation in the data\n",
    "- Let $\\hat{y}_i = x_i \\cdot b$ be the prediction for observation $i$\n",
    "- The *residual* or *error* for observation $i$ is\n",
    "$$\n",
    "e_i = y_i - \\hat{y}_i = y_i - x_i \\cdot b \n",
    "$$\n",
    "This is how far off the in-sample prediction is, using the coefficients $b$ and variables $x_i$ for observation $i$ to make a prediction $\\hat{y}_i$ --- how bad is our model at predicting values for data we already have?"
   ]
  },
  {
   "cell_type": "markdown",
   "id": "24f57042-dbdb-44c2-aa6b-706d66271121",
   "metadata": {},
   "source": [
    "### Sum-of-Squared-Error, `SSE`\n",
    "- Some errors will generally be positive and some negative, but we want to count any error as undesirable, and larger errors as even worse failures. So, we square the error,\n",
    "$$\n",
    "e_i^2 = (y_i - \\hat{y}_i)^2\n",
    "$$\n",
    "and sum over the observations,\n",
    "$$\n",
    "\\text{SSE} = \\sum_{i=1}^N e_i^2 = \\sum_{i=1}^N (y_i - \\hat{y}_i)^2\n",
    "$$\n",
    "to get the **Sum of Squared Error**. \n",
    "- This is often normalized as an average, to get the **mean squared error**,\n",
    "$$\n",
    "\\text{MSE} = \\dfrac{1}{N} \\sum_{i=1}^N (y_i - \\hat{y}_i)^2,\n",
    "$$\n",
    "and often further normalized by taking the square root to get the **root mean square error**\n",
    "$$\n",
    "\\text{RMSE} = \\sqrt{ \\dfrac{1}{N} \\sum_{i=1}^N (y_i - \\hat{y}_i)^2}.\n",
    "$$\n",
    "- From a stats perspective there are subtle differences, but from a model-fitting perspective, these are all fundamentally the same thing: A metric of model performance based on squared error"
   ]
  },
  {
   "cell_type": "code",
   "execution_count": 18,
   "id": "86784247-2172-48e0-a05e-7b518d5ce428",
   "metadata": {},
   "outputs": [
    {
     "name": "stdout",
     "output_type": "stream",
     "text": [
      "b0: 0.7060512872836284 b1: 2.7455778720701285 y_hat: [12.36177845 15.34963983 18.18331483 24.98453073 13.35198091 10.26132804\n",
      "  2.96255191 14.23421092  7.74709023  6.58760009 13.49754695 20.80884308\n",
      "  8.60705585  6.69964684 19.04404051 13.88688551  4.89983961 12.74713427\n",
      " 13.98986918 19.01531689 24.78729562 16.85497859 16.84935898 20.31368756\n",
      " 16.6537522  15.16685475 25.07089918 19.93759101 14.17585769 20.76666923]\n"
     ]
    },
    {
     "data": {
      "image/png": "[encoded data removed]",
      "text/plain": [
       "<Figure size 640x480 with 1 Axes>"
      ]
     },
     "metadata": {},
     "output_type": "display_data"
    }
   ],
   "source": [
    "# The sum of the squares of the red lines is the SSE:\n",
    "np.random.seed(500) # Set the seed for the random number generator\n",
    "N = 30\n",
    "x = 5 + 2*np.random.normal(0,1,size = N) # Create an x\n",
    "eps = np.random.normal(0,3,size = N) # Create noise\n",
    "b0 = -1 # Intercept coefficient\n",
    "b1 = 3 # Slope coefficient\n",
    "y = b0 + b1*x + eps\n",
    "reg = slr(x,y) # Run the regression\n",
    "\n",
    "for i in range(len(x)):\n",
    "    plt.vlines(x[i], y[i], reg['y_hat'][i], color='r') # Visualize residuals    \n",
    "plt.plot(x,reg['y_hat'],label='Regression Line')\n",
    "plt.scatter(x,y,label='Data')\n",
    "plt.xlabel(\"X\")\n",
    "plt.ylabel(\"Y\")\n",
    "plt.legend(loc='lower right')\n",
    "plt.title('Visualizing SSE: Sum of Squared Red Lines')\n",
    "plt.show()"
   ]
  },
  {
   "cell_type": "markdown",
   "id": "0b06cd3e-6ee9-41b6-9239-b91429c502d0",
   "metadata": {},
   "source": [
    "### Other Model Metrics\n",
    "- There is no reason you can't target other measures of model performance, like **mean absolute deviation** which is more robust to outliers,\n",
    "$$ \\text{MAD} = \\dfrac{1}{N} \\sum_{i=1}^N |y_i - \\hat{y}_i|$$\n",
    "or **worst absolute deviation** where worst-case prediction is the concern,\n",
    "$$ \\text{WAD} = \\max_i |y_i - \\hat{y}_i|$$\n",
    "- There are (at least) hundreds of different metrics of model success besides `SSE`\n",
    "- Why `SSE`? Probably because we can easily use calculus to minimize it."
   ]
  },
  {
   "cell_type": "markdown",
   "id": "0ba6183b-5a25-437a-91b4-52d58dce2d8b",
   "metadata": {},
   "source": [
    "### Minimizing the `SSE`\n",
    "- The goal of *linear regression* is to pick $b$ to make $\\text{SSE}(b)$ as small as possible. \n",
    "- Let's do this for a *single linear model* with a constant and one explanatory/feature variable $x_i$:\n",
    "$$\n",
    "y_i = b_0 \\times 1 + b_1 \\times x_i\n",
    "$$\n",
    "- Then the `SSE` is:\n",
    "$$\n",
    "\\text{SSE}(b_0, b_1) = \\sum_{i=1}^N (y_i - b_0 - b_1 x_i)^2\n",
    "$$\n"
   ]
  },
  {
   "cell_type": "markdown",
   "id": "75755795-3377-42ea-8dd5-508c1501b789",
   "metadata": {},
   "source": [
    "## Optimization\n",
    "- From my perpsective, the main reason to study calculus is to learn how to minimize/maximize and approximate functions\n",
    "- To do interesting things in quantitative subjects, you typically need the mathematical background to maximize or minimize things like $\\text{SSE}$ with respsect to $b_0$ and $b_1$\n",
    "- Roughly, to minimize a function $f(b)$, you take the derivative with respect to $b$, $f'(b)$, set it equal to zero, and solve for $b^*$ --- this is called a *first order necessary condition*"
   ]
  },
  {
   "cell_type": "markdown",
   "id": "d57bf370-6bea-4cf7-be5c-2bdf3b4fa415",
   "metadata": {},
   "source": [
    "### First-Order Conditions for Optimization\n",
    "- If $\\text{SSE}(b_0,b_1) = \\sum_{i=1}^N(y_i-b_0 - b_1x_i)^2$, the necessary condition for $b_0$ is\n",
    "$$\n",
    "\\sum_{i=1}^N-2(y_i-b_0-b_1 x_i) = 0\n",
    "$$\n",
    "and the necessary condition for $b_1$ is\n",
    "$$\n",
    "\\sum_{i=1}^N -2(y_i - b_0 - b_1 x_i)x_i = 0\n",
    "$$\n",
    "- How do we simplify these?\n",
    "- Define $\\bar{x}$ as the mean of $x$,\n",
    "$$\n",
    "\\bar{x} = \\dfrac{1}{N} \\sum_{i=1}^N x_i,\n",
    "$$\n",
    "and similarly for $\\bar{y}$"
   ]
  },
  {
   "cell_type": "markdown",
   "id": "ebb27a0d-d526-4cf3-94c4-5f6b8da62ede",
   "metadata": {},
   "source": [
    "#### The First Condition\n",
    "- We can simplify the first condition for $b_0$ as:\n",
    "\\begin{alignat*}{2}\n",
    "0 &=& \\sum_{i=1}^N(y_i-b_0-b_1 x_i) \\\\\n",
    "&=&  \\sum_{i=1}^N y_i- \\sum_{i=1}^N b_0-b_1 \\sum_{i=1}^N x_i  \\quad (\\text{Distribute summation})\\\\\n",
    "&=& \\sum_{i=1}^N y_i- N b_0-b_1 \\sum_{i=1}^N x_i \\quad (\\text{Sum $b_0$ $N$ times})\\\\\n",
    "&=& \\dfrac{\\sum_{i=1}^N y_i}{N} -  b_0-b_1 \\dfrac{\\sum_{i=1}^N x_i}{N} \\quad (\\text{Divide by $N$})\\\\\n",
    "0 &=& \\bar{y} - b_0 - b_1 \\bar{x} \\quad (\\text{Use definitions})\n",
    "\\end{alignat*}\n",
    "implying $b_0^* = \\bar{y} - b_1^* \\bar{x}$.\n"
   ]
  },
  {
   "cell_type": "markdown",
   "id": "d0312382-89a6-45c0-b633-5c6148c0bfe9",
   "metadata": {},
   "source": [
    "#### The Second Condition\n",
    "- For the second condition for $b_1$:\n",
    "\\begin{alignat*}{2}\n",
    "0 &=& \\sum_{i=1}^N (y_i - b_0 - b_1 x_i)x_i \\\\\n",
    "&=& \\sum_{i=1}^N (y_i - (\\bar{y} - b_1 \\bar{x}) - b_1 x_i)x_i \\quad (\\text{Substitute in $b_0^*$})\\\\\n",
    "&=& \\sum_{i=1}^N (y_i - \\bar{y})x_i - b_1 (x_i -\\bar{x})x_i \\quad (\\text{Distribute $x_i$, group terms})\\\\\n",
    "0 &=& \\sum_{i=1}^N (y_i - \\bar{y})x_i - b_1 \\sum_{i=1}^N (x_i -\\bar{x})x_i \\quad (\\text{Distribute summation})\\\\\n",
    "\\end{alignat*}\n",
    "implying\n",
    "$$\n",
    "b_1^* = \\dfrac{\\sum_{i=1}^N (y_i - \\bar{y})x_i}{\\sum_{i=1}^N (x_i -\\bar{x})x_i}.\n",
    "$$\n",
    "(This is roughly the correlation between $x$ and $y$ divided by the variance of $x$)\n"
   ]
  },
  {
   "cell_type": "markdown",
   "id": "c2212f8e-81b8-4e4b-a25e-c12063dd5b88",
   "metadata": {},
   "source": [
    "## Single Linear Regression \n",
    "- Notice that the first condition can be written as\n",
    "$$\n",
    "0 = \\sum_{i=1}^N (y_i - b_0 - b_1 x_i) \n",
    "  = \\sum_{i=1}^N (y_i - \\hat{y}_i)\n",
    " = \\dfrac{1}{N} \\sum_{i=1}^N e_i \n",
    "$$\n",
    "so **the average error is equal to zero at the optimum**\n",
    "- The second condition can be written as\n",
    "$$\n",
    "0 = \\sum_{i=1}^N (y_i - b_0 - b_1 x_i)x_i \n",
    "= \\sum_{i=1}^N (y_i - \\hat{y}_i)x_i \n",
    " = \\sum_{i=1}^N e_i x_i \n",
    " = e \\cdot x \n",
    "$$\n",
    "**The error term and explanatory variable are statistically uncorrelated, and at \"right angles\" to one another (orthogonal)**\n"
   ]
  },
  {
   "cell_type": "markdown",
   "id": "b209058c-0eba-46dd-9203-618ed742be83",
   "metadata": {},
   "source": [
    "### Single Linear Regression Function\n",
    "- Here is an implementation of single linear regression, which returns a dictionary including the coefficients, the predicted values, and the residuals:"
   ]
  },
  {
   "cell_type": "code",
   "execution_count": 19,
   "id": "6d802341-4d04-4b2e-bfc1-b34d1ee22a69",
   "metadata": {},
   "outputs": [],
   "source": [
    "def slr(x,y): # Single Linear Regression Function\n",
    "    x_bar = np.mean(x) # Average of x's\n",
    "    y_bar = np.mean(y) # Average of y's\n",
    "    b1 = ((x-x_bar)@(y-y_bar))/((x-x_bar)@x) # Slope coefficient\n",
    "    b0 = y_bar - b1*x_bar # Intercept coefficient\n",
    "    y_hat = b0 + b1*x   # Compute predictions\n",
    "    residuals = y - y_hat   # Compute residuals\n",
    "    return({'b0':b0,'b1':b1,'y_hat':y_hat,'residuals':residuals})"
   ]
  },
  {
   "cell_type": "markdown",
   "id": "83a14730-5a45-4253-a6b3-0adf822baa0f",
   "metadata": {},
   "source": [
    "## Partialing Out, Projection\n",
    "- The regression breaks $y$ into two pieces:\n",
    "$$\n",
    "\\begin{alignat*}{2}\n",
    "y_i &=& (y_i - \\hat{y}_i) + \\hat{y}_i\\\\\n",
    "&=& e_i + \\hat{y}_i\\\\\n",
    "\\underbrace{y_i}_{\\text{True value}} &=& \\underbrace{e_i}_{\\text{Error, residual}} + \\underbrace{x_i \\cdot b}_{\\text{Model, prediction}}\n",
    "\\end{alignat*}\n",
    "$$\n",
    "- But the residual from OLS averages to zero: It is uncorrelated with the prediction\n",
    "- You can understand linear regression as removing the variation in $Y$ that can be explained by $X$ --- The residual contains all of the noise, the predictor $\\hat{b} \\cdot x$ contains all of the signal\n"
   ]
  },
  {
   "cell_type": "code",
   "execution_count": 20,
   "id": "fb80dddc-bed9-4599-9449-d486cbd4123b",
   "metadata": {},
   "outputs": [
    {
     "name": "stdout",
     "output_type": "stream",
     "text": [
      "Coefficients:  -0.9442281734458007 3.1188748724251796\n"
     ]
    },
    {
     "data": {
      "text/plain": [
       "Text(0.5, 1.0, 'Linear Regression')"
      ]
     },
     "execution_count": 20,
     "metadata": {},
     "output_type": "execute_result"
    },
    {
     "data": {
      "image/png": "[encoded data removed]",
      "text/plain": [
       "<Figure size 640x480 with 1 Axes>"
      ]
     },
     "metadata": {},
     "output_type": "display_data"
    }
   ],
   "source": [
    "np.random.seed(102) # Set the seed for the random number generator\n",
    "N = 30\n",
    "\n",
    "x = 5 + 2*np.random.normal(0,1,size = N) # Create an x\n",
    "eps = np.random.normal(0,3,size = N) # Create noise\n",
    "b0 = -1 # Intercept coefficoent\n",
    "b1 = 3 # Slope coefficient\n",
    "y = b0 + b1*x + eps\n",
    "\n",
    "def slr(x,y): # Single Linear Regression Function\n",
    "    x_bar = np.mean(x)\n",
    "    y_bar = np.mean(y)\n",
    "    b1 = np.inner(x-x_bar,y-y_bar)/np.inner(x-x_bar,x)\n",
    "    b0 = y_bar - b1*x_bar\n",
    "    y_hat = b0 + b1*x\n",
    "    residuals = y - y_hat\n",
    "    return({'b0':b0,'b1':b1,'y_hat':y_hat,'residuals':residuals})\n",
    "    \n",
    "reg = slr(x,y) # Run the regression\n",
    "print('Coefficients: ',reg['b0'],reg['b1'])\n",
    "\n",
    "# Plot the resuts:\n",
    "for i in range(len(x)):\n",
    "    plt.vlines(x[i], y[i], reg['y_hat'][i], color='r') # Visualize residuals\n",
    "\n",
    "\n",
    "plt.scatter(x,y,label='Data')\n",
    "plt.plot(x,reg['y_hat'],label='Regression Line')\n",
    "plt.xlabel(\"X\")\n",
    "plt.ylabel(\"Y\")\n",
    "plt.legend(loc='lower right')\n",
    "plt.title('Linear Regression')\n"
   ]
  },
  {
   "cell_type": "code",
   "execution_count": 21,
   "id": "f84b18e9-1af2-4cfa-bdd5-96140510a06f",
   "metadata": {},
   "outputs": [
    {
     "data": {
      "text/html": [
       "<div>\n",
       "<style scoped>\n",
       "    .dataframe tbody tr th:only-of-type {\n",
       "        vertical-align: middle;\n",
       "    }\n",
       "\n",
       "    .dataframe tbody tr th {\n",
       "        vertical-align: top;\n",
       "    }\n",
       "\n",
       "    .dataframe thead th {\n",
       "        text-align: right;\n",
       "    }\n",
       "</style>\n",
       "<table border=\"1\" class=\"dataframe\">\n",
       "  <thead>\n",
       "    <tr style=\"text-align: right;\">\n",
       "      <th></th>\n",
       "      <th>residuals</th>\n",
       "      <th>x</th>\n",
       "    </tr>\n",
       "  </thead>\n",
       "  <tbody>\n",
       "    <tr>\n",
       "      <th>residuals</th>\n",
       "      <td>1.229162e+01</td>\n",
       "      <td>3.570932e-17</td>\n",
       "    </tr>\n",
       "    <tr>\n",
       "      <th>x</th>\n",
       "      <td>3.570932e-17</td>\n",
       "      <td>4.362118e+00</td>\n",
       "    </tr>\n",
       "  </tbody>\n",
       "</table>\n",
       "</div>"
      ],
      "text/plain": [
       "              residuals             x\n",
       "residuals  1.229162e+01  3.570932e-17\n",
       "x          3.570932e-17  4.362118e+00"
      ]
     },
     "execution_count": 21,
     "metadata": {},
     "output_type": "execute_result"
    },
    {
     "data": {
      "image/png": "[encoded data removed]",
      "text/plain": [
       "<Figure size 640x480 with 2 Axes>"
      ]
     },
     "metadata": {},
     "output_type": "display_data"
    }
   ],
   "source": [
    "plt.subplot(1, 2, 1)\n",
    "plt.scatter(x,reg['y_hat'])\n",
    "plt.xlabel(\"X\")\n",
    "plt.ylabel(\"y_hat\")\n",
    "plt.title('Prediction: Signal')\n",
    "\n",
    "plt.subplot(1, 2, 2)\n",
    "plt.scatter(x,reg['residuals'])\n",
    "plt.xlabel(\"X\")\n",
    "plt.ylabel(\"e\")\n",
    "plt.title('Residuals: Noise')\n",
    "\n",
    "pd.DataFrame({'residuals':reg['residuals'],'x':x}).cov() # Compute correlation between e and x"
   ]
  },
  {
   "cell_type": "markdown",
   "id": "2841f367-6cfa-4b24-8a59-1278ff8dd200",
   "metadata": {},
   "source": [
    "## Multiple Linear Regression\n",
    "- The previous discussion is great: we have some geometic intuition about how linear regression works, its mathematical foundation, and its key properties\n",
    "- Problem: It's only worked out for one regressor/feature/explanatory variable\n",
    "- How do we extend this to multiple variables? i.e., the model\n",
    "$$ y = \\underbrace{b_0}_{\\text{Intercept}} \\times 1 + b_1 \\times  x_1 + b_2 \\times x_2 + ... + b_K \\times x_K $$\n",
    "- We adjust the `SSE` to include all the variables of interest:\n",
    "$$ SSE = \\sum_{i=1}^N (y_i - b_0 - b_1 x_{i1} - b_2 x_{i2} - ... - b_K x_{iK} )^2 = \\sum_{i=1}^N (y_i - X_i \\cdot b)^2$$\n",
    "and maximize over $(b_0, b_1, ..., b_K)$.\n",
    "- We won't go over the details analytically, but minimizing $(y-Xb)'(y-Xb)$ can be done computationally (gradient descent) or using linear algebra (the solution is $b^* = (X'X)^{-1}(X'y)$)"
   ]
  },
  {
   "cell_type": "markdown",
   "id": "83df0295-459f-497b-9833-5dff8a243b7e",
   "metadata": {},
   "source": [
    "### Multiple Linear Regression Example\n",
    "- Before we looked at `age` and `mileage` separately as predictors of price\n",
    "- Now that we have MLR, we can combine then into a single model\n",
    "$$ \\text{price} = b_0 + b_{1} \\times \\text{age} + b_{2}\\times\\text{mileage}  $$"
   ]
  },
  {
   "cell_type": "code",
   "execution_count": 22,
   "id": "1759c896-9023-4db1-9baf-34ce09a5aaab",
   "metadata": {},
   "outputs": [
    {
     "name": "stdout",
     "output_type": "stream",
     "text": [
      "MLR coefficients:  [13.13087365 -0.49630373  0.18339748]\n"
     ]
    }
   ],
   "source": [
    "# One-step multilinear regression:\n",
    "def mlr(X,y): # Multiple linear regression, matrix algebra approach\n",
    "    XpX = X.T@X # Compute X'X\n",
    "    Xpy = X.T@y # Compute X'y\n",
    "    b = np.linalg.solve(XpX, Xpy) # Solve normal equations\n",
    "    y_hat = X@b # Compute predictions\n",
    "    residuals = y-y_hat # Compute residuals\n",
    "    SSE =  np.inner(residuals,residuals) # Compute SSE\n",
    "    rsq = 1 - SSE/np.inner( y-np.mean(y),y-np.mean(y)) # Compute Rsq\n",
    "    return({'b':b,'y_hat':y_hat,'residuals':residuals,'rsq':rsq,'SSE':SSE})\n",
    "\n",
    "df['(Intercept)'] = 1\n",
    "X = df.loc[:,['(Intercept)','age_ihs','mileage_ihs'] ]\n",
    "y = df['price_ihs']\n",
    "reg = mlr(X,y)\n",
    "print('MLR coefficients: ', reg['b']) # Same values!"
   ]
  },
  {
   "cell_type": "markdown",
   "id": "00fcc0c3-7d22-4b9a-966d-c909ba08cb95",
   "metadata": {},
   "source": [
    "### How does MLR work?\n",
    "- This is the deep idea in regression\n",
    "- Consider the $x_k$ whose coefficient you want to compute:\n",
    "    1. Regress $y$ and $x_k$ on all of the other coefficients, yielding residuals $r_y$ and $r_{x_k}$\n",
    "    2. Now regress $r_y$ on $r_{x_k}$ and a constant\n",
    "- The slope coefficient for the procedure described above is the same as for MLR\n",
    "- What does this mean? Linear regression \"partials out\" all of the variation in $y$ that can be explained by the other features, and the optimal weight $b_k$ reflects only the remaining variation in $y$ that can be explained by $x_k$ alone:\n",
    "$$ \n",
    "b_k = \\dfrac{ \\text{cov}(r_y, r_{x_k})}{\\sigma^2_{r_{x_k}}}\n",
    "$$  \n",
    "- We will return to this idea a lot to explain phenomena related to linear models"
   ]
  },
  {
   "cell_type": "code",
   "execution_count": 24,
   "id": "c972f8f4-19bb-433c-ba9f-3d01a40511c1",
   "metadata": {},
   "outputs": [
    {
     "name": "stdout",
     "output_type": "stream",
     "text": [
      "Age coefficient:  -0.49630372562857217\n",
      "Mileage coefficient:  0.18339748252959537\n",
      "Intercept:  13.130873652290912 \n",
      "\n"
     ]
    }
   ],
   "source": [
    "# Let's do all the steps laboriously:\n",
    "\n",
    "# Pick variables for analysis:\n",
    "y = df['price_ihs']\n",
    "x1 = df['mileage_ihs']\n",
    "x2 = df['age_ihs']\n",
    "\n",
    "reg1_y = slr(x1,y) # Regress y on x1\n",
    "reg1_2 = slr(x1,x2) # Regress x2 on x1\n",
    "y_temp = reg1_y['residuals'] # Extract the residual for y\n",
    "x2_temp = reg1_2['residuals'] # Extract the residual for x2\n",
    "reg_y_x2 = slr(x2_temp,y_temp) # Regress residuals on each other\n",
    "print('Age coefficient: ', reg_y_x2['b1'])\n",
    "\n",
    "reg2_y = slr(x2,y) # Regress y on x2\n",
    "reg2_1 = slr(x2,x1) # Regress x1 on x2\n",
    "y_resid = reg2_y['residuals'] # Extract the residual for y\n",
    "x1_resid = reg2_1['residuals'] # Extract the residual for x1\n",
    "reg_y_x1 = slr(x1_resid,y_resid) # Regress residuals on each other\n",
    "print('Mileage coefficient: ', reg_y_x1['b1'])\n",
    "\n",
    "# Compute intercept:\n",
    "b0 = np.mean(y) - reg_y_x1['b1'] * np.mean(x1) - reg_y_x2['b1']*np.mean(x2)\n",
    "print('Intercept: ', b0, '\\n')"
   ]
  },
  {
   "cell_type": "markdown",
   "id": "054f48b7-5b46-40ea-9a2a-c3c2ce0854a0",
   "metadata": {},
   "source": [
    "### Multiple Linear Regression \n",
    "- Once you have multiple linear regression, you can build much more complex models of phenomena\n",
    "- We probably want to include $\\text{age}^2$ and $\\text{mileage}^2$ to control for non-linear aging effects:\n",
    "$$ \\text{price} = b_0 + b_{1} \\times \\text{age} + b_{2} \\times\\text{age}^2 + b_{3}\\times\\text{mileage} + b_{4}\\times\\text{mileage}^2 $$\n",
    "- This gives a highly flexible and extensible way of modeling how features predict a target variable; you can only unlock the power of linear regression if you are willing to give it a large feature space to work with\n",
    "- Eventually, we want to discipline this process by using data, not just making up models that run the risk of overfitting our data"
   ]
  },
  {
   "cell_type": "code",
   "execution_count": 25,
   "id": "f6170483-e56c-4e44-b3ca-a7757f69a3ec",
   "metadata": {},
   "outputs": [
    {
     "data": {
      "text/html": [
       "<div>\n",
       "<style scoped>\n",
       "    .dataframe tbody tr th:only-of-type {\n",
       "        vertical-align: middle;\n",
       "    }\n",
       "\n",
       "    .dataframe tbody tr th {\n",
       "        vertical-align: top;\n",
       "    }\n",
       "\n",
       "    .dataframe thead th {\n",
       "        text-align: right;\n",
       "    }\n",
       "</style>\n",
       "<table border=\"1\" class=\"dataframe\">\n",
       "  <thead>\n",
       "    <tr style=\"text-align: right;\">\n",
       "      <th></th>\n",
       "      <th>unnamed: 0</th>\n",
       "      <th>make</th>\n",
       "      <th>make_year</th>\n",
       "      <th>color</th>\n",
       "      <th>body_type</th>\n",
       "      <th>mileage_run</th>\n",
       "      <th>no_of_owners</th>\n",
       "      <th>seating_capacity</th>\n",
       "      <th>fuel_type</th>\n",
       "      <th>transmission</th>\n",
       "      <th>transmission_type</th>\n",
       "      <th>price</th>\n",
       "      <th>age</th>\n",
       "      <th>price_ihs</th>\n",
       "      <th>age_ihs</th>\n",
       "      <th>mileage_ihs</th>\n",
       "      <th>(Intercept)</th>\n",
       "    </tr>\n",
       "  </thead>\n",
       "  <tbody>\n",
       "    <tr>\n",
       "      <th>0</th>\n",
       "      <td>1</td>\n",
       "      <td>Volkswagen</td>\n",
       "      <td>2017</td>\n",
       "      <td>silver</td>\n",
       "      <td>sedan</td>\n",
       "      <td>44611</td>\n",
       "      <td>1st</td>\n",
       "      <td>5</td>\n",
       "      <td>diesel</td>\n",
       "      <td>7-Speed</td>\n",
       "      <td>Automatic</td>\n",
       "      <td>657000</td>\n",
       "      <td>5</td>\n",
       "      <td>14.088586</td>\n",
       "      <td>2.312438</td>\n",
       "      <td>11.398883</td>\n",
       "      <td>1</td>\n",
       "    </tr>\n",
       "    <tr>\n",
       "      <th>1</th>\n",
       "      <td>2</td>\n",
       "      <td>Hyundai</td>\n",
       "      <td>2016</td>\n",
       "      <td>red</td>\n",
       "      <td>crossover</td>\n",
       "      <td>20305</td>\n",
       "      <td>1st</td>\n",
       "      <td>5</td>\n",
       "      <td>petrol</td>\n",
       "      <td>5-Speed</td>\n",
       "      <td>Manual</td>\n",
       "      <td>682000</td>\n",
       "      <td>6</td>\n",
       "      <td>14.125932</td>\n",
       "      <td>2.491780</td>\n",
       "      <td>10.611770</td>\n",
       "      <td>1</td>\n",
       "    </tr>\n",
       "    <tr>\n",
       "      <th>2</th>\n",
       "      <td>3</td>\n",
       "      <td>Honda</td>\n",
       "      <td>2019</td>\n",
       "      <td>white</td>\n",
       "      <td>suv</td>\n",
       "      <td>29540</td>\n",
       "      <td>2nd</td>\n",
       "      <td>5</td>\n",
       "      <td>petrol</td>\n",
       "      <td>5-Speed</td>\n",
       "      <td>Manual</td>\n",
       "      <td>793000</td>\n",
       "      <td>3</td>\n",
       "      <td>14.276726</td>\n",
       "      <td>1.818446</td>\n",
       "      <td>10.986648</td>\n",
       "      <td>1</td>\n",
       "    </tr>\n",
       "    <tr>\n",
       "      <th>3</th>\n",
       "      <td>4</td>\n",
       "      <td>Renault</td>\n",
       "      <td>2017</td>\n",
       "      <td>bronze</td>\n",
       "      <td>hatchback</td>\n",
       "      <td>35680</td>\n",
       "      <td>1st</td>\n",
       "      <td>5</td>\n",
       "      <td>petrol</td>\n",
       "      <td>5-Speed</td>\n",
       "      <td>Manual</td>\n",
       "      <td>414000</td>\n",
       "      <td>5</td>\n",
       "      <td>13.626768</td>\n",
       "      <td>2.312438</td>\n",
       "      <td>11.175493</td>\n",
       "      <td>1</td>\n",
       "    </tr>\n",
       "    <tr>\n",
       "      <th>4</th>\n",
       "      <td>5</td>\n",
       "      <td>Hyundai</td>\n",
       "      <td>2017</td>\n",
       "      <td>orange</td>\n",
       "      <td>hatchback</td>\n",
       "      <td>25126</td>\n",
       "      <td>1st</td>\n",
       "      <td>5</td>\n",
       "      <td>petrol</td>\n",
       "      <td>5-Speed</td>\n",
       "      <td>Manual</td>\n",
       "      <td>515000</td>\n",
       "      <td>5</td>\n",
       "      <td>13.845069</td>\n",
       "      <td>2.312438</td>\n",
       "      <td>10.824806</td>\n",
       "      <td>1</td>\n",
       "    </tr>\n",
       "  </tbody>\n",
       "</table>\n",
       "</div>"
      ],
      "text/plain": [
       "   unnamed: 0        make  make_year   color  body_type  mileage_run  \\\n",
       "0           1  Volkswagen       2017  silver      sedan        44611   \n",
       "1           2     Hyundai       2016     red  crossover        20305   \n",
       "2           3       Honda       2019   white        suv        29540   \n",
       "3           4     Renault       2017  bronze  hatchback        35680   \n",
       "4           5     Hyundai       2017  orange  hatchback        25126   \n",
       "\n",
       "  no_of_owners  seating_capacity fuel_type transmission transmission_type  \\\n",
       "0          1st                 5    diesel      7-Speed         Automatic   \n",
       "1          1st                 5    petrol      5-Speed            Manual   \n",
       "2          2nd                 5    petrol      5-Speed            Manual   \n",
       "3          1st                 5    petrol      5-Speed            Manual   \n",
       "4          1st                 5    petrol      5-Speed            Manual   \n",
       "\n",
       "    price  age  price_ihs   age_ihs  mileage_ihs  (Intercept)  \n",
       "0  657000    5  14.088586  2.312438    11.398883            1  \n",
       "1  682000    6  14.125932  2.491780    10.611770            1  \n",
       "2  793000    3  14.276726  1.818446    10.986648            1  \n",
       "3  414000    5  13.626768  2.312438    11.175493            1  \n",
       "4  515000    5  13.845069  2.312438    10.824806            1  "
      ]
     },
     "execution_count": 25,
     "metadata": {},
     "output_type": "execute_result"
    }
   ],
   "source": [
    "df.head()"
   ]
  },
  {
   "cell_type": "code",
   "execution_count": 26,
   "id": "598b1d65-c6e4-4409-b2e2-ec6fa6a0fdd7",
   "metadata": {},
   "outputs": [
    {
     "data": {
      "text/html": [
       "<div>\n",
       "<style scoped>\n",
       "    .dataframe tbody tr th:only-of-type {\n",
       "        vertical-align: middle;\n",
       "    }\n",
       "\n",
       "    .dataframe tbody tr th {\n",
       "        vertical-align: top;\n",
       "    }\n",
       "\n",
       "    .dataframe thead th {\n",
       "        text-align: right;\n",
       "    }\n",
       "</style>\n",
       "<table border=\"1\" class=\"dataframe\">\n",
       "  <thead>\n",
       "    <tr style=\"text-align: right;\">\n",
       "      <th></th>\n",
       "      <th>(Intercept)</th>\n",
       "      <th>mileage_ihs</th>\n",
       "      <th>mileage_ihs_sq</th>\n",
       "      <th>age_ihs</th>\n",
       "      <th>age_ihs_sq</th>\n",
       "    </tr>\n",
       "  </thead>\n",
       "  <tbody>\n",
       "    <tr>\n",
       "      <th>0</th>\n",
       "      <td>1</td>\n",
       "      <td>11.398883</td>\n",
       "      <td>129.934532</td>\n",
       "      <td>2.312438</td>\n",
       "      <td>5.347371</td>\n",
       "    </tr>\n",
       "    <tr>\n",
       "      <th>1</th>\n",
       "      <td>1</td>\n",
       "      <td>10.611770</td>\n",
       "      <td>112.609654</td>\n",
       "      <td>2.491780</td>\n",
       "      <td>6.208967</td>\n",
       "    </tr>\n",
       "    <tr>\n",
       "      <th>2</th>\n",
       "      <td>1</td>\n",
       "      <td>10.986648</td>\n",
       "      <td>120.706428</td>\n",
       "      <td>1.818446</td>\n",
       "      <td>3.306748</td>\n",
       "    </tr>\n",
       "    <tr>\n",
       "      <th>3</th>\n",
       "      <td>1</td>\n",
       "      <td>11.175493</td>\n",
       "      <td>124.891639</td>\n",
       "      <td>2.312438</td>\n",
       "      <td>5.347371</td>\n",
       "    </tr>\n",
       "    <tr>\n",
       "      <th>4</th>\n",
       "      <td>1</td>\n",
       "      <td>10.824806</td>\n",
       "      <td>117.176417</td>\n",
       "      <td>2.312438</td>\n",
       "      <td>5.347371</td>\n",
       "    </tr>\n",
       "  </tbody>\n",
       "</table>\n",
       "</div>"
      ],
      "text/plain": [
       "   (Intercept)  mileage_ihs  mileage_ihs_sq   age_ihs  age_ihs_sq\n",
       "0            1    11.398883      129.934532  2.312438    5.347371\n",
       "1            1    10.611770      112.609654  2.491780    6.208967\n",
       "2            1    10.986648      120.706428  1.818446    3.306748\n",
       "3            1    11.175493      124.891639  2.312438    5.347371\n",
       "4            1    10.824806      117.176417  2.312438    5.347371"
      ]
     },
     "execution_count": 26,
     "metadata": {},
     "output_type": "execute_result"
    }
   ],
   "source": [
    "y = df['price_ihs']\n",
    "df['mileage_ihs_sq'] = df['mileage_ihs']**2\n",
    "df['age_ihs_sq'] = df['age_ihs']**2\n",
    "df['(Intercept)'] = 1\n",
    "vars = ['(Intercept)','mileage_ihs','mileage_ihs_sq','age_ihs','age_ihs_sq']\n",
    "X = df.loc[:,vars]\n",
    "X.head()"
   ]
  },
  {
   "cell_type": "code",
   "execution_count": 27,
   "id": "4f791305-8d64-4385-88be-b60233bfc42d",
   "metadata": {},
   "outputs": [
    {
     "name": "stdout",
     "output_type": "stream",
     "text": [
      "Requirement already satisfied: scipy in /opt/conda/lib/python3.10/site-packages (1.15.1)\n",
      "Requirement already satisfied: numpy<2.5,>=1.23.5 in /opt/conda/lib/python3.10/site-packages (from scipy) (2.2.1)\n",
      "\u001b[33mWARNING: Running pip as the 'root' user can result in broken permissions and conflicting behaviour with the system package manager. It is recommended to use a virtual environment instead: https://pip.pypa.io/warnings/venv\u001b[0m\u001b[33m\n",
      "\u001b[0mNote: you may need to restart the kernel to use updated packages.\n",
      "[15.47212329 -0.38372754  0.02548905  0.46253646 -0.25003953]\n",
      "0.41399106478679804\n"
     ]
    },
    {
     "data": {
      "image/png": "[encoded data removed]",
      "text/plain": [
       "<Figure size 640x480 with 1 Axes>"
      ]
     },
     "metadata": {},
     "output_type": "display_data"
    }
   ],
   "source": [
    "# Install scipy package\n",
    "%pip install scipy\n",
    "\n",
    "reg = mlr(X,y) # Run multiple linear regression\n",
    "print(reg['b']) # Print coefficients \n",
    "reg['residuals'].plot.kde() # Plot residuals\n",
    "print(reg['rsq']) # R-squared measure of model fit"
   ]
  },
  {
   "cell_type": "markdown",
   "id": "e2e25a47-f01f-4a2c-b29d-b3f6a2aaecf9",
   "metadata": {},
   "source": [
    "### The `sklearn.linear_model` Module\n",
    "- Scikit-Learn has a linear regression object that can be used out-of-the box:\n",
    "    - `from sklearn.linear_model import LinearRegression` to load the linear regression module\n",
    "    - `myRegression = LinearRegression().fit(X, y)` fits \n",
    "- You'll see below that the results very similar to the `mlr` function above: They're using the same NumPy code \"under the hood\" to solve for the OLS coefficients, but with some additional feature engineering/normalization"
   ]
  },
  {
   "cell_type": "code",
   "execution_count": 28,
   "id": "74792e00",
   "metadata": {},
   "outputs": [
    {
     "data": {
      "text/html": [
       "<div>\n",
       "<style scoped>\n",
       "    .dataframe tbody tr th:only-of-type {\n",
       "        vertical-align: middle;\n",
       "    }\n",
       "\n",
       "    .dataframe tbody tr th {\n",
       "        vertical-align: top;\n",
       "    }\n",
       "\n",
       "    .dataframe thead th {\n",
       "        text-align: right;\n",
       "    }\n",
       "</style>\n",
       "<table border=\"1\" class=\"dataframe\">\n",
       "  <thead>\n",
       "    <tr style=\"text-align: right;\">\n",
       "      <th></th>\n",
       "      <th>(Intercept)</th>\n",
       "      <th>mileage_ihs</th>\n",
       "      <th>mileage_ihs_sq</th>\n",
       "      <th>age_ihs</th>\n",
       "      <th>age_ihs_sq</th>\n",
       "    </tr>\n",
       "  </thead>\n",
       "  <tbody>\n",
       "    <tr>\n",
       "      <th>0</th>\n",
       "      <td>1</td>\n",
       "      <td>11.398883</td>\n",
       "      <td>129.934532</td>\n",
       "      <td>2.312438</td>\n",
       "      <td>5.347371</td>\n",
       "    </tr>\n",
       "    <tr>\n",
       "      <th>1</th>\n",
       "      <td>1</td>\n",
       "      <td>10.611770</td>\n",
       "      <td>112.609654</td>\n",
       "      <td>2.491780</td>\n",
       "      <td>6.208967</td>\n",
       "    </tr>\n",
       "    <tr>\n",
       "      <th>2</th>\n",
       "      <td>1</td>\n",
       "      <td>10.986648</td>\n",
       "      <td>120.706428</td>\n",
       "      <td>1.818446</td>\n",
       "      <td>3.306748</td>\n",
       "    </tr>\n",
       "    <tr>\n",
       "      <th>3</th>\n",
       "      <td>1</td>\n",
       "      <td>11.175493</td>\n",
       "      <td>124.891639</td>\n",
       "      <td>2.312438</td>\n",
       "      <td>5.347371</td>\n",
       "    </tr>\n",
       "    <tr>\n",
       "      <th>4</th>\n",
       "      <td>1</td>\n",
       "      <td>10.824806</td>\n",
       "      <td>117.176417</td>\n",
       "      <td>2.312438</td>\n",
       "      <td>5.347371</td>\n",
       "    </tr>\n",
       "  </tbody>\n",
       "</table>\n",
       "</div>"
      ],
      "text/plain": [
       "   (Intercept)  mileage_ihs  mileage_ihs_sq   age_ihs  age_ihs_sq\n",
       "0            1    11.398883      129.934532  2.312438    5.347371\n",
       "1            1    10.611770      112.609654  2.491780    6.208967\n",
       "2            1    10.986648      120.706428  1.818446    3.306748\n",
       "3            1    11.175493      124.891639  2.312438    5.347371\n",
       "4            1    10.824806      117.176417  2.312438    5.347371"
      ]
     },
     "execution_count": 28,
     "metadata": {},
     "output_type": "execute_result"
    }
   ],
   "source": [
    "y = df['price_ihs']\n",
    "df['mileage_ihs_sq'] = df['mileage_ihs']**2\n",
    "df['age_ihs_sq'] = df['age_ihs']**2\n",
    "df['(Intercept)'] = 1\n",
    "vars = ['(Intercept)','mileage_ihs','mileage_ihs_sq','age_ihs','age_ihs_sq']\n",
    "X = df.loc[:,vars]\n",
    "X.head()"
   ]
  },
  {
   "cell_type": "code",
   "execution_count": 28,
   "id": "f2109e9a-f770-40b9-b4b5-ec1f4daedc6a",
   "metadata": {},
   "outputs": [
    {
     "data": {
      "text/html": [
       "<div>\n",
       "<style scoped>\n",
       "    .dataframe tbody tr th:only-of-type {\n",
       "        vertical-align: middle;\n",
       "    }\n",
       "\n",
       "    .dataframe tbody tr th {\n",
       "        vertical-align: top;\n",
       "    }\n",
       "\n",
       "    .dataframe thead th {\n",
       "        text-align: right;\n",
       "    }\n",
       "</style>\n",
       "<table border=\"1\" class=\"dataframe\">\n",
       "  <thead>\n",
       "    <tr style=\"text-align: right;\">\n",
       "      <th></th>\n",
       "      <th>mileage_ihs</th>\n",
       "      <th>mileage_ihs_sq</th>\n",
       "      <th>age_ihs</th>\n",
       "      <th>age_ihs_sq</th>\n",
       "    </tr>\n",
       "  </thead>\n",
       "  <tbody>\n",
       "    <tr>\n",
       "      <th>0</th>\n",
       "      <td>11.398883</td>\n",
       "      <td>129.934532</td>\n",
       "      <td>2.312438</td>\n",
       "      <td>5.347371</td>\n",
       "    </tr>\n",
       "    <tr>\n",
       "      <th>1</th>\n",
       "      <td>10.611770</td>\n",
       "      <td>112.609654</td>\n",
       "      <td>2.491780</td>\n",
       "      <td>6.208967</td>\n",
       "    </tr>\n",
       "    <tr>\n",
       "      <th>2</th>\n",
       "      <td>10.986648</td>\n",
       "      <td>120.706428</td>\n",
       "      <td>1.818446</td>\n",
       "      <td>3.306748</td>\n",
       "    </tr>\n",
       "    <tr>\n",
       "      <th>3</th>\n",
       "      <td>11.175493</td>\n",
       "      <td>124.891639</td>\n",
       "      <td>2.312438</td>\n",
       "      <td>5.347371</td>\n",
       "    </tr>\n",
       "    <tr>\n",
       "      <th>4</th>\n",
       "      <td>10.824806</td>\n",
       "      <td>117.176417</td>\n",
       "      <td>2.312438</td>\n",
       "      <td>5.347371</td>\n",
       "    </tr>\n",
       "  </tbody>\n",
       "</table>\n",
       "</div>"
      ],
      "text/plain": [
       "   mileage_ihs  mileage_ihs_sq   age_ihs  age_ihs_sq\n",
       "0    11.398883      129.934532  2.312438    5.347371\n",
       "1    10.611770      112.609654  2.491780    6.208967\n",
       "2    10.986648      120.706428  1.818446    3.306748\n",
       "3    11.175493      124.891639  2.312438    5.347371\n",
       "4    10.824806      117.176417  2.312438    5.347371"
      ]
     },
     "execution_count": 28,
     "metadata": {},
     "output_type": "execute_result"
    }
   ],
   "source": [
    "from sklearn.linear_model import LinearRegression # Import linear regression model\n",
    "\n",
    "vars = ['mileage_ihs','mileage_ihs_sq','age_ihs','age_ihs_sq'] # This is a list of variables to use\n",
    "\n",
    "X = df.loc[:,vars] # Construct data matrix\n",
    "X.head() # Peek at data"
   ]
  },
  {
   "cell_type": "code",
   "execution_count": 29,
   "id": "1912b417-981a-4274-8965-a29cddc4a67c",
   "metadata": {},
   "outputs": [
    {
     "name": "stdout",
     "output_type": "stream",
     "text": [
      "15.472123285718446\n",
      "[-0.38372754  0.02548905  0.46253646 -0.25003953]\n",
      "0.4139910647867976\n"
     ]
    }
   ],
   "source": [
    "reg = LinearRegression().fit(X, y) # Fit the linear model\n",
    "print(reg.intercept_) # Intercept value\n",
    "print(reg.coef_) # Regression coefficients\n",
    "print(reg.score(X, y)) # R squared measure"
   ]
  },
  {
   "cell_type": "markdown",
   "id": "4b6bbadd-fdf0-4c28-b6fb-7573b35b2cec",
   "metadata": {},
   "source": [
    "### Examples\n",
    "- `./data/USA_cars_datasets.csv`\n",
    "- `./data/airbnb_hw.csv`\n",
    "- `./data/heart_failure/heart_failure_clinical_records_dataset.csv`\n",
    "- `./data/pierce_county_house_sales.csv`"
   ]
  },
  {
   "cell_type": "markdown",
   "id": "60debe9f-de82-4e99-b625-d8418ac8ea12",
   "metadata": {},
   "source": [
    "## Coefficient of Determination, $R^2$\n",
    "- A natural question then is, how much noise is left to explain? How well does the model fit the data?\n",
    "- There is a common statistic used to summarize how predictive $X$ is of $y$, using the OLS coefficients, called the *coefficient of determination* or $R^2$:\n",
    "$$\n",
    "R^2 = 1 - \\dfrac{\\sum_{i=1}^N (y_i - x_i \\cdot \\hat{b})^2}{\\sum_{i=1}^N(y_i-\\bar{y})^2}\n",
    "$$\n",
    "- That numerator is the sum-of-squared-error, evaluated at $\\hat{b}$: How much error remains after trying to explain it using OLS?\n",
    "- That denominator is the error of predicting $y_i$ with just the mean as the predictor, $\\bar{y}$\n",
    "- So the ratio is the reduction in the `SSE` by using the explanatory variables rather than just the sample mean\n",
    "- This is a nice way to evaluate the model, but should not become an end in itself: Adding more variables always raises the $R^2$, but does not necessarily improve out-of-sample prediction\n",
    "- $R^2$ isn't an end in itself"
   ]
  },
  {
   "cell_type": "markdown",
   "id": "feec7a38-eafa-4b80-a5be-7b14b95f7d5b",
   "metadata": {},
   "source": [
    "### What, exactly, makes a model linear?\n",
    "- A model is linear because the coefficients, $b$, enter the prediction as\n",
    "$$\n",
    "\\hat{y} = b \\cdot \\hat{x} = b_1 \\hat{x}_1 + b_2 \\hat{x}_2 + ... b_J \\hat{x}_J\n",
    "$$\n",
    "so that the relationship between $\\hat{y}$ and each $\\hat{x}_j$ is a linear one through $b_j$\n",
    "- Taking non-linear transformations of the $x_j$'s simply gives new variables, like $\\log(x_j)$ or $x_j^2$ -- *Transformations of the regressors don't make the model nonlinear*\n",
    "- Likewise, if there was a coefficient written in a funky nonlinear way, like $\\sqrt{ \\text{asinh}(b_j)}$, you can simply relabel that coefficient as $b_j \\leftarrow \\sqrt{ \\text{asinh}(b_j)}$ and make the model linear again.\n",
    "- There *are* many interesting non-linear models, but they are often derived from a domain-specific theory and require additional work to understand"
   ]
  },
  {
   "cell_type": "markdown",
   "id": "6febc859-e48d-46b6-b946-f3ad6405663c",
   "metadata": {},
   "source": [
    "### Beyond Fitting the Model\n",
    "- Up to here, the discussion has been a standard analysis of linear models\n",
    "- From the perspective of data science, we have **model specification** questions: What variables should go in the model?\n",
    "- The power of linear models is that you can interact variables and expand the feature space, allowing you to better control how relationships between variables are modelled\n",
    "- The risk is that your model turns to mush (multicolinearity)"
   ]
  },
  {
   "cell_type": "markdown",
   "id": "d6bb1b63-eca0-4858-9e63-899eed0f7eda",
   "metadata": {},
   "source": [
    "## Expanding the Feature Space\n",
    "- To fully leverage the power of regression, you have many options to expand the range of variables that the model can use to explain the variation in the data:\n",
    "    - An **interaction term** is when you take two explanatory variables, say $x_1$ and $x_2$, and multiply them together to get a new explanatory variable, $z = x_1 x_2$, like $\\text{mileage} \\times \\text{age}$\n",
    "    - A **polynomial family** is when you take an explanatory variable, say $x$, and compute its powers $x^2$, $x^3$, ... , $x^K$. (There are many kinds of families besides polynomial.)\n",
    "    - A **logarithmic transformation** or **inverse hyperbolic sine transformation**\n",
    "    - A **maxmin normalization** or **z-score normalization**\n",
    "    - More advanced tools like **principal components analysis** decomposition of the data or **splines** that create highly transformations of variables\n",
    "    - Any combination of the above\n",
    "- This is where we run into a significant danger of overfitting: The more complex the feature space, the more opportunities we give the model to pick non-representative cases around which to build non-representative/externally invalid models\n",
    "- You can do a lot of these by hand, using `df['new_var'] = transformation(df['old_var'])`, but many common and tedious transformations are already programmed in sklearn"
   ]
  },
  {
   "cell_type": "markdown",
   "id": "34d24cd1-2d61-4ed6-97f5-c8d4246f5714",
   "metadata": {},
   "source": [
    "### Interaction Features/Variables\n",
    "- It it tedious to compute interaction terms like $x_1 \\times x_2$ or $x_1 \\times x_2 \\times x_3 \\times ... \\times x_m$ on your own, and it's a very common task, so `sklearn` has a convenient tool for accomplishing this\n",
    "- The `PolynomialFeatures` is the object in `sklearn.preprocessing` that can quickly create matrices of exponenetiated variables for you without doing it yourself\n",
    "- The basic steps are:\n",
    "    1. Import the object: `from sklearn.preprocessing import PolynomialFeatures`\n",
    "    2. Decide the degree of the expansion and create an expander: `expander = PolynomialFeatures(degree=2,interaction_only=True,include_bias=False)`\n",
    "    3. Execute the transformations: `Z = expander.fit_transform(X)` and get labels for the columns `names = expander.get_feature_names_out()`\n",
    "    4. Create a new dataframe: `zdf = pd.DataFrame(data=Z, columns = names)`\n",
    "    5. Possibly concatenate this new dataframe with other data\n",
    "- Use this power wisely "
   ]
  },
  {
   "cell_type": "code",
   "execution_count": 29,
   "id": "b66991f0-4a98-4275-aed5-0361bfbdebb8",
   "metadata": {},
   "outputs": [
    {
     "data": {
      "text/html": [
       "<div>\n",
       "<style scoped>\n",
       "    .dataframe tbody tr th:only-of-type {\n",
       "        vertical-align: middle;\n",
       "    }\n",
       "\n",
       "    .dataframe tbody tr th {\n",
       "        vertical-align: top;\n",
       "    }\n",
       "\n",
       "    .dataframe thead th {\n",
       "        text-align: right;\n",
       "    }\n",
       "</style>\n",
       "<table border=\"1\" class=\"dataframe\">\n",
       "  <thead>\n",
       "    <tr style=\"text-align: right;\">\n",
       "      <th></th>\n",
       "      <th>apples</th>\n",
       "      <th>joules</th>\n",
       "      <th>stocks</th>\n",
       "    </tr>\n",
       "  </thead>\n",
       "  <tbody>\n",
       "    <tr>\n",
       "      <th>0</th>\n",
       "      <td>1</td>\n",
       "      <td>3</td>\n",
       "      <td>-2</td>\n",
       "    </tr>\n",
       "    <tr>\n",
       "      <th>1</th>\n",
       "      <td>3</td>\n",
       "      <td>-2</td>\n",
       "      <td>1</td>\n",
       "    </tr>\n",
       "    <tr>\n",
       "      <th>2</th>\n",
       "      <td>5</td>\n",
       "      <td>1</td>\n",
       "      <td>4</td>\n",
       "    </tr>\n",
       "  </tbody>\n",
       "</table>\n",
       "</div>"
      ],
      "text/plain": [
       "   apples  joules  stocks\n",
       "0       1       3      -2\n",
       "1       3      -2       1\n",
       "2       5       1       4"
      ]
     },
     "execution_count": 29,
     "metadata": {},
     "output_type": "execute_result"
    }
   ],
   "source": [
    "from sklearn.preprocessing import PolynomialFeatures\n",
    "# Example dataframe:\n",
    "df = pd.DataFrame({'apples':np.array([1,3,5]),'joules':np.array([3,-2,1]), 'stocks':np.array([-2,1,4])})\n",
    "X = df\n",
    "X.head()"
   ]
  },
  {
   "cell_type": "code",
   "execution_count": 30,
   "id": "f0288392-a7bf-40cb-9e5e-0fd73e42be22",
   "metadata": {},
   "outputs": [
    {
     "data": {
      "text/html": [
       "<div>\n",
       "<style scoped>\n",
       "    .dataframe tbody tr th:only-of-type {\n",
       "        vertical-align: middle;\n",
       "    }\n",
       "\n",
       "    .dataframe tbody tr th {\n",
       "        vertical-align: top;\n",
       "    }\n",
       "\n",
       "    .dataframe thead th {\n",
       "        text-align: right;\n",
       "    }\n",
       "</style>\n",
       "<table border=\"1\" class=\"dataframe\">\n",
       "  <thead>\n",
       "    <tr style=\"text-align: right;\">\n",
       "      <th></th>\n",
       "      <th>apples</th>\n",
       "      <th>joules</th>\n",
       "      <th>stocks</th>\n",
       "      <th>apples joules</th>\n",
       "      <th>apples stocks</th>\n",
       "      <th>joules stocks</th>\n",
       "      <th>apples joules stocks</th>\n",
       "    </tr>\n",
       "  </thead>\n",
       "  <tbody>\n",
       "    <tr>\n",
       "      <th>0</th>\n",
       "      <td>1.0</td>\n",
       "      <td>3.0</td>\n",
       "      <td>-2.0</td>\n",
       "      <td>3.0</td>\n",
       "      <td>-2.0</td>\n",
       "      <td>-6.0</td>\n",
       "      <td>-6.0</td>\n",
       "    </tr>\n",
       "    <tr>\n",
       "      <th>1</th>\n",
       "      <td>3.0</td>\n",
       "      <td>-2.0</td>\n",
       "      <td>1.0</td>\n",
       "      <td>-6.0</td>\n",
       "      <td>3.0</td>\n",
       "      <td>-2.0</td>\n",
       "      <td>-6.0</td>\n",
       "    </tr>\n",
       "    <tr>\n",
       "      <th>2</th>\n",
       "      <td>5.0</td>\n",
       "      <td>1.0</td>\n",
       "      <td>4.0</td>\n",
       "      <td>5.0</td>\n",
       "      <td>20.0</td>\n",
       "      <td>4.0</td>\n",
       "      <td>20.0</td>\n",
       "    </tr>\n",
       "  </tbody>\n",
       "</table>\n",
       "</div>"
      ],
      "text/plain": [
       "   apples  joules  stocks  apples joules  apples stocks  joules stocks  \\\n",
       "0     1.0     3.0    -2.0            3.0           -2.0           -6.0   \n",
       "1     3.0    -2.0     1.0           -6.0            3.0           -2.0   \n",
       "2     5.0     1.0     4.0            5.0           20.0            4.0   \n",
       "\n",
       "   apples joules stocks  \n",
       "0                  -6.0  \n",
       "1                  -6.0  \n",
       "2                  20.0  "
      ]
     },
     "execution_count": 30,
     "metadata": {},
     "output_type": "execute_result"
    }
   ],
   "source": [
    "## Only compute the interactions up to degree 3:\n",
    "expander = PolynomialFeatures(degree=3,interaction_only=True,include_bias=False) # Create the expander\n",
    "Z = expander.fit_transform(X) # Pass the df into the expander to get powers/interactions of x and y\n",
    "names = expander.get_feature_names_out() # Get the names of these variables\n",
    "zdf = pd.DataFrame(data=Z, columns = names) # Create a new, expanded dataframe\n",
    "zdf.head()"
   ]
  },
  {
   "cell_type": "markdown",
   "id": "a579f7b7-f0e2-47c5-af01-f4529f260553",
   "metadata": {},
   "source": [
    "### One Hot Encoding\n",
    "- We often have categorical data that need to be converted to numerical values for `sklearn` to work\n",
    "- You can use Pandas to create dummy variables out of the categorical variable using `pd.get_dummies(varName)`\n",
    "- You can use sklearn's `LabelBinarizer` from `.preprocessing` to create a matrix of one-hot encoded variables (the `OneHotEncoder` can be more complex to use)\n",
    "- **We rarely interact put one-hot variables into the polynomial feature expander, unless it's a thing we've explicitly decided to do**"
   ]
  },
  {
   "cell_type": "code",
   "execution_count": 31,
   "id": "25a4cb4a-b167-40c4-9948-54570f40abdb",
   "metadata": {},
   "outputs": [
    {
     "data": {
      "text/html": [
       "<div>\n",
       "<style scoped>\n",
       "    .dataframe tbody tr th:only-of-type {\n",
       "        vertical-align: middle;\n",
       "    }\n",
       "\n",
       "    .dataframe tbody tr th {\n",
       "        vertical-align: top;\n",
       "    }\n",
       "\n",
       "    .dataframe thead th {\n",
       "        text-align: right;\n",
       "    }\n",
       "</style>\n",
       "<table border=\"1\" class=\"dataframe\">\n",
       "  <thead>\n",
       "    <tr style=\"text-align: right;\">\n",
       "      <th></th>\n",
       "      <th>apples</th>\n",
       "      <th>joules</th>\n",
       "      <th>stocks</th>\n",
       "      <th>bird</th>\n",
       "    </tr>\n",
       "  </thead>\n",
       "  <tbody>\n",
       "    <tr>\n",
       "      <th>0</th>\n",
       "      <td>1</td>\n",
       "      <td>3</td>\n",
       "      <td>-2</td>\n",
       "      <td>Cardinal</td>\n",
       "    </tr>\n",
       "    <tr>\n",
       "      <th>1</th>\n",
       "      <td>3</td>\n",
       "      <td>-2</td>\n",
       "      <td>1</td>\n",
       "      <td>Oriole</td>\n",
       "    </tr>\n",
       "    <tr>\n",
       "      <th>2</th>\n",
       "      <td>5</td>\n",
       "      <td>1</td>\n",
       "      <td>4</td>\n",
       "      <td>Robin</td>\n",
       "    </tr>\n",
       "    <tr>\n",
       "      <th>3</th>\n",
       "      <td>7</td>\n",
       "      <td>2</td>\n",
       "      <td>6</td>\n",
       "      <td>Oriole</td>\n",
       "    </tr>\n",
       "  </tbody>\n",
       "</table>\n",
       "</div>"
      ],
      "text/plain": [
       "   apples  joules  stocks      bird\n",
       "0       1       3      -2  Cardinal\n",
       "1       3      -2       1    Oriole\n",
       "2       5       1       4     Robin\n",
       "3       7       2       6    Oriole"
      ]
     },
     "execution_count": 31,
     "metadata": {},
     "output_type": "execute_result"
    }
   ],
   "source": [
    "df = pd.DataFrame({'apples':np.array([1,3,5,7]),\n",
    "                   'joules':np.array([3,-2,1,2]), \n",
    "                   'stocks':np.array([-2,1,4,6]),\n",
    "                   'bird':['Cardinal','Oriole','Robin','Oriole']})\n",
    "X = df\n",
    "X.head()"
   ]
  },
  {
   "cell_type": "code",
   "execution_count": 32,
   "id": "075c9c84-1e05-45fa-b88a-87347caa5d14",
   "metadata": {},
   "outputs": [
    {
     "data": {
      "text/html": [
       "<div>\n",
       "<style scoped>\n",
       "    .dataframe tbody tr th:only-of-type {\n",
       "        vertical-align: middle;\n",
       "    }\n",
       "\n",
       "    .dataframe tbody tr th {\n",
       "        vertical-align: top;\n",
       "    }\n",
       "\n",
       "    .dataframe thead th {\n",
       "        text-align: right;\n",
       "    }\n",
       "</style>\n",
       "<table border=\"1\" class=\"dataframe\">\n",
       "  <thead>\n",
       "    <tr style=\"text-align: right;\">\n",
       "      <th></th>\n",
       "      <th>Cardinal</th>\n",
       "      <th>Oriole</th>\n",
       "      <th>Robin</th>\n",
       "    </tr>\n",
       "  </thead>\n",
       "  <tbody>\n",
       "    <tr>\n",
       "      <th>0</th>\n",
       "      <td>True</td>\n",
       "      <td>False</td>\n",
       "      <td>False</td>\n",
       "    </tr>\n",
       "    <tr>\n",
       "      <th>1</th>\n",
       "      <td>False</td>\n",
       "      <td>True</td>\n",
       "      <td>False</td>\n",
       "    </tr>\n",
       "    <tr>\n",
       "      <th>2</th>\n",
       "      <td>False</td>\n",
       "      <td>False</td>\n",
       "      <td>True</td>\n",
       "    </tr>\n",
       "    <tr>\n",
       "      <th>3</th>\n",
       "      <td>False</td>\n",
       "      <td>True</td>\n",
       "      <td>False</td>\n",
       "    </tr>\n",
       "  </tbody>\n",
       "</table>\n",
       "</div>"
      ],
      "text/plain": [
       "   Cardinal  Oriole  Robin\n",
       "0      True   False  False\n",
       "1     False    True  False\n",
       "2     False   False   True\n",
       "3     False    True  False"
      ]
     },
     "execution_count": 32,
     "metadata": {},
     "output_type": "execute_result"
    }
   ],
   "source": [
    "# With Pandas:\n",
    "ddf = pd.get_dummies(X['bird'])\n",
    "ddf.head()"
   ]
  },
  {
   "cell_type": "code",
   "execution_count": 33,
   "id": "6b6b762d-2dd2-4d6b-aad4-b5645135758d",
   "metadata": {},
   "outputs": [
    {
     "data": {
      "text/html": [
       "<div>\n",
       "<style scoped>\n",
       "    .dataframe tbody tr th:only-of-type {\n",
       "        vertical-align: middle;\n",
       "    }\n",
       "\n",
       "    .dataframe tbody tr th {\n",
       "        vertical-align: top;\n",
       "    }\n",
       "\n",
       "    .dataframe thead th {\n",
       "        text-align: right;\n",
       "    }\n",
       "</style>\n",
       "<table border=\"1\" class=\"dataframe\">\n",
       "  <thead>\n",
       "    <tr style=\"text-align: right;\">\n",
       "      <th></th>\n",
       "      <th>Cardinal</th>\n",
       "      <th>Oriole</th>\n",
       "      <th>Robin</th>\n",
       "    </tr>\n",
       "  </thead>\n",
       "  <tbody>\n",
       "    <tr>\n",
       "      <th>0</th>\n",
       "      <td>1</td>\n",
       "      <td>0</td>\n",
       "      <td>0</td>\n",
       "    </tr>\n",
       "    <tr>\n",
       "      <th>1</th>\n",
       "      <td>0</td>\n",
       "      <td>1</td>\n",
       "      <td>0</td>\n",
       "    </tr>\n",
       "    <tr>\n",
       "      <th>2</th>\n",
       "      <td>0</td>\n",
       "      <td>0</td>\n",
       "      <td>1</td>\n",
       "    </tr>\n",
       "    <tr>\n",
       "      <th>3</th>\n",
       "      <td>0</td>\n",
       "      <td>1</td>\n",
       "      <td>0</td>\n",
       "    </tr>\n",
       "  </tbody>\n",
       "</table>\n",
       "</div>"
      ],
      "text/plain": [
       "   Cardinal  Oriole  Robin\n",
       "0         1       0      0\n",
       "1         0       1      0\n",
       "2         0       0      1\n",
       "3         0       1      0"
      ]
     },
     "execution_count": 33,
     "metadata": {},
     "output_type": "execute_result"
    }
   ],
   "source": [
    "# With Pandas, if you don't like booleans:\n",
    "ddf = pd.get_dummies(X['bird'],dtype='int')\n",
    "ddf.head()"
   ]
  },
  {
   "cell_type": "code",
   "execution_count": 34,
   "id": "646c27f7-9248-44ac-a8e7-73057b27f13b",
   "metadata": {},
   "outputs": [
    {
     "name": "stdout",
     "output_type": "stream",
     "text": [
      "[[1 0 0]\n",
      " [0 1 0]\n",
      " [0 0 1]\n",
      " [0 1 0]]\n",
      "['Cardinal' 'Oriole' 'Robin']\n"
     ]
    },
    {
     "data": {
      "text/html": [
       "<div>\n",
       "<style scoped>\n",
       "    .dataframe tbody tr th:only-of-type {\n",
       "        vertical-align: middle;\n",
       "    }\n",
       "\n",
       "    .dataframe tbody tr th {\n",
       "        vertical-align: top;\n",
       "    }\n",
       "\n",
       "    .dataframe thead th {\n",
       "        text-align: right;\n",
       "    }\n",
       "</style>\n",
       "<table border=\"1\" class=\"dataframe\">\n",
       "  <thead>\n",
       "    <tr style=\"text-align: right;\">\n",
       "      <th></th>\n",
       "      <th>Cardinal</th>\n",
       "      <th>Oriole</th>\n",
       "      <th>Robin</th>\n",
       "    </tr>\n",
       "  </thead>\n",
       "  <tbody>\n",
       "    <tr>\n",
       "      <th>0</th>\n",
       "      <td>1</td>\n",
       "      <td>0</td>\n",
       "      <td>0</td>\n",
       "    </tr>\n",
       "    <tr>\n",
       "      <th>1</th>\n",
       "      <td>0</td>\n",
       "      <td>1</td>\n",
       "      <td>0</td>\n",
       "    </tr>\n",
       "    <tr>\n",
       "      <th>2</th>\n",
       "      <td>0</td>\n",
       "      <td>0</td>\n",
       "      <td>1</td>\n",
       "    </tr>\n",
       "    <tr>\n",
       "      <th>3</th>\n",
       "      <td>0</td>\n",
       "      <td>1</td>\n",
       "      <td>0</td>\n",
       "    </tr>\n",
       "  </tbody>\n",
       "</table>\n",
       "</div>"
      ],
      "text/plain": [
       "   Cardinal  Oriole  Robin\n",
       "0         1       0      0\n",
       "1         0       1      0\n",
       "2         0       0      1\n",
       "3         0       1      0"
      ]
     },
     "execution_count": 34,
     "metadata": {},
     "output_type": "execute_result"
    }
   ],
   "source": [
    "# With sklearn:\n",
    "from sklearn.preprocessing import LabelBinarizer\n",
    "\n",
    "one_hot_encoder = LabelBinarizer()\n",
    "oh = one_hot_encoder.fit_transform(X['bird']) # One-hot encode the 'bird' variable\n",
    "print(oh)\n",
    "names = one_hot_encoder.classes_ # Get names of the classes\n",
    "print(names)\n",
    "\n",
    "zdf = pd.DataFrame( data = oh, columns = names) # Create a new df for the encoded variables\n",
    "zdf.head()"
   ]
  },
  {
   "cell_type": "markdown",
   "id": "06482793-c9f1-42ce-ae09-20e9e5ab56f0",
   "metadata": {},
   "source": [
    "### The Dummy Variable Trap\n",
    "- When running linear regression with dummy variables, you have two choices:\n",
    "    - For each dummy variable, use the `pd.get_dummies(..., drop_constant=True)`, and keep the intercept in the regression\n",
    "    - Drop the intercept of the regression with the option `LinearRegression(fit_intercept=False).fit(X, y)`, but keep all the dummies\n",
    "- The reason this occurs is that if you have an intercept and all of the dummies, you can replicate one of your regressors from a combination of other ones. This is called **perfect multicolinearity**, and some of your coefficients won't be defined\n",
    "- Most stats packages hide this in the background of the regression, but you have to handle it with pandas/sklearn more explicitly"
   ]
  },
  {
   "cell_type": "markdown",
   "id": "e295d17d-7155-405c-8b2e-3ecd955754f0",
   "metadata": {},
   "source": [
    "### Quickly Concatenating Dataframes\n",
    "- OK, you made these nice shiny features, how do you get them back into a single dataframe?\n",
    "- The `df = pd.concat([df1,df2,...,dfk],axis=1)` makes a new dataframe out of the columns of the original dataframes `df1`, `df2`, ..., `dfk`\n",
    "- So you can build all the transformed data frames you want, then collapse them all back into one dataframe for processing\n",
    "- Since you are going to do this, you might want to think carefully about how you're building the dataframe chunks, and use `.iloc` or `.loc` to be selective about what going into each one"
   ]
  },
  {
   "cell_type": "code",
   "execution_count": 35,
   "id": "4d25a9a3-bd13-49ad-8afd-b258ab6077d1",
   "metadata": {},
   "outputs": [
    {
     "data": {
      "text/html": [
       "<div>\n",
       "<style scoped>\n",
       "    .dataframe tbody tr th:only-of-type {\n",
       "        vertical-align: middle;\n",
       "    }\n",
       "\n",
       "    .dataframe tbody tr th {\n",
       "        vertical-align: top;\n",
       "    }\n",
       "\n",
       "    .dataframe thead th {\n",
       "        text-align: right;\n",
       "    }\n",
       "</style>\n",
       "<table border=\"1\" class=\"dataframe\">\n",
       "  <thead>\n",
       "    <tr style=\"text-align: right;\">\n",
       "      <th></th>\n",
       "      <th>joules</th>\n",
       "      <th>stocks</th>\n",
       "      <th>joules^2</th>\n",
       "      <th>joules stocks</th>\n",
       "      <th>stocks^2</th>\n",
       "      <th>Cardinal</th>\n",
       "      <th>Oriole</th>\n",
       "      <th>Robin</th>\n",
       "    </tr>\n",
       "  </thead>\n",
       "  <tbody>\n",
       "    <tr>\n",
       "      <th>0</th>\n",
       "      <td>3.0</td>\n",
       "      <td>-2.0</td>\n",
       "      <td>9.0</td>\n",
       "      <td>-6.0</td>\n",
       "      <td>4.0</td>\n",
       "      <td>1.0</td>\n",
       "      <td>0.0</td>\n",
       "      <td>0.0</td>\n",
       "    </tr>\n",
       "    <tr>\n",
       "      <th>1</th>\n",
       "      <td>-2.0</td>\n",
       "      <td>1.0</td>\n",
       "      <td>4.0</td>\n",
       "      <td>-2.0</td>\n",
       "      <td>1.0</td>\n",
       "      <td>0.0</td>\n",
       "      <td>1.0</td>\n",
       "      <td>0.0</td>\n",
       "    </tr>\n",
       "    <tr>\n",
       "      <th>2</th>\n",
       "      <td>1.0</td>\n",
       "      <td>4.0</td>\n",
       "      <td>1.0</td>\n",
       "      <td>4.0</td>\n",
       "      <td>16.0</td>\n",
       "      <td>0.0</td>\n",
       "      <td>0.0</td>\n",
       "      <td>1.0</td>\n",
       "    </tr>\n",
       "    <tr>\n",
       "      <th>3</th>\n",
       "      <td>2.0</td>\n",
       "      <td>6.0</td>\n",
       "      <td>4.0</td>\n",
       "      <td>12.0</td>\n",
       "      <td>36.0</td>\n",
       "      <td>0.0</td>\n",
       "      <td>1.0</td>\n",
       "      <td>0.0</td>\n",
       "    </tr>\n",
       "  </tbody>\n",
       "</table>\n",
       "</div>"
      ],
      "text/plain": [
       "   joules  stocks  joules^2  joules stocks  stocks^2  Cardinal  Oriole  Robin\n",
       "0     3.0    -2.0       9.0           -6.0       4.0       1.0     0.0    0.0\n",
       "1    -2.0     1.0       4.0           -2.0       1.0       0.0     1.0    0.0\n",
       "2     1.0     4.0       1.0            4.0      16.0       0.0     0.0    1.0\n",
       "3     2.0     6.0       4.0           12.0      36.0       0.0     1.0    0.0"
      ]
     },
     "execution_count": 35,
     "metadata": {},
     "output_type": "execute_result"
    }
   ],
   "source": [
    "## Polynomial features:\n",
    "expander = PolynomialFeatures(degree=2,include_bias=False) # Create the expander\n",
    "Z = expander.fit_transform(df.iloc[:,1:3]) # Pass the df into the expander to get powers/interactions of x and y\n",
    "names = expander.get_feature_names_out() # Get the names of these variables\n",
    "X1 = pd.DataFrame(data=Z, columns = names) # Create a new, expanded dataframe\n",
    "\n",
    "## Dummy variables:\n",
    "X2 = pd.get_dummies(df['bird'], dtype=float) # Create dummies\n",
    "\n",
    "## Concatenate:\n",
    "X = pd.concat([X1,X2],axis=1) # Concatenate engineered features\n",
    "X.head()"
   ]
  },
  {
   "cell_type": "markdown",
   "id": "55261edc-4eee-4f89-a682-f72eb995046b",
   "metadata": {},
   "source": [
    "### Handling Outliers\n",
    "- We have the sense that outliers are bad, particularly for global smoothers like linear regression\n",
    "- We want to (1) detect outliers, (2) create an outlier dummy, and (3) **windsorize** them: Replace values outside the whiskers with the min/max values of the whiskers (when you remove outliers altogether, it is called **trimming**)\n",
    "- This is, again, a quick way of processing outliers without losing data"
   ]
  },
  {
   "cell_type": "code",
   "execution_count": 36,
   "id": "9e4f3f40-8071-4b10-a261-2fbdd2934814",
   "metadata": {},
   "outputs": [
    {
     "data": {
      "text/plain": [
       "<Axes: >"
      ]
     },
     "execution_count": 36,
     "metadata": {},
     "output_type": "execute_result"
    },
    {
     "data": {
      "image/png": "[encoded data removed]",
      "text/plain": [
       "<Figure size 640x480 with 1 Axes>"
      ]
     },
     "metadata": {},
     "output_type": "display_data"
    }
   ],
   "source": [
    "## Generate random data with outliers\n",
    "np.random.seed(1000)\n",
    "N = 200\n",
    "switch = np.random.uniform(0,1,N)\n",
    "x = (switch<.05)*np.random.normal(20,10,N)+(switch >= .05)*(switch<.95)*np.random.normal(50,10,N)+(switch>=.95)*np.random.normal(100,5,N)\n",
    "sns.boxplot(x)"
   ]
  },
  {
   "cell_type": "code",
   "execution_count": 37,
   "id": "65028cd7-7ceb-455a-994c-d3e1eaf32fa9",
   "metadata": {},
   "outputs": [
    {
     "data": {
      "text/plain": [
       "<Axes: >"
      ]
     },
     "execution_count": 37,
     "metadata": {},
     "output_type": "execute_result"
    },
    {
     "data": {
      "image/png": "[encoded data removed]",
      "text/plain": [
       "<Figure size 640x480 with 1 Axes>"
      ]
     },
     "metadata": {},
     "output_type": "display_data"
    }
   ],
   "source": [
    "## Function to Windsorize a variable:\n",
    "def winsorize(x):\n",
    "    # Convert from pd to np, if necessary:\n",
    "    if type(x) == 'pandas.core.series.Series':\n",
    "        x = x.to_numpy()\n",
    "    # Compute IQR and 25, 75 quantiles:\n",
    "    pct25, pct75 = np.percentile(x,[25,75])\n",
    "    iqr = pct75 - pct25\n",
    "    # Compute whiskers:\n",
    "    lower_whisker = pct25 - iqr*1.5\n",
    "    upper_whisker = pct75 + iqr*1.5\n",
    "    # Windorize x:\n",
    "    x_winsor = np.copy(x)\n",
    "    x_winsor[ x < lower_whisker ] = lower_whisker\n",
    "    x_winsor[ x > upper_whisker ] = upper_whisker\n",
    "    return(x_winsor)\n",
    "\n",
    "sns.boxplot( winsorize(x))"
   ]
  },
  {
   "cell_type": "markdown",
   "id": "2a9f462b-3081-4fcb-a7ea-bfd0acb5e5f1",
   "metadata": {},
   "source": [
    "## Model Selection\n",
    "- Datasets often have dozens or thousands of variables, and we can create many more through transforming and interacting variables. Which variables go into a linear regression?\n",
    "- In linear regression, our model is **underfit** if we use too few variables which cannot capture the complex relationships between the features and target variable, while our model is **overfit** if we are using too many variables which are exploiting too many unique features of the training data\n",
    "- In statistics, it is an assumption that the analyst roughly knows the \"true\" data generating process, and properties of an estimator are derived under that assumption - statistics has few useful answers for how to pick the form of the model itself (e.g. Akaike Information Criterion, Bayesian Information Criterion, Mallows' $C_p$)\n",
    "- In machine learning, we will learn some tools and techniques for model selection in a data-driven way later on in the course based on cross validation (e.g. LASSO)"
   ]
  },
  {
   "cell_type": "markdown",
   "id": "13e7b127-d5a7-43e7-a5a9-ff4b8649aacc",
   "metadata": {},
   "source": [
    "### The Classical Assumptions for OLS [stats]\n",
    "- I often see people write the following: \"The neccessary assumptions for linear regression are (i) linearity, (ii) homoskedasticity, (iii) conditional independence of errors, (iv) normality of errors\"\n",
    "- This generates confusion --- These are the assumptions for *OLS to be the best, linear, unbiased estimator (BLUE) of a hypothetical \"true\" $b_0$ in a finite sample, and the $z$-test to be correctly specified*\n",
    "- We are not trying to estimate $b_0$, we are trying to do something else: find the *best linear predictor* of $y$ using the variables $X$. The above conditions are not necessary for that.\n",
    "- You don't need permission to run OLS and make predictions, you need permission to run OLS and interpret the coefficients."
   ]
  },
  {
   "cell_type": "markdown",
   "id": "2eda309d-2053-4a2a-97a4-e78d08192fae",
   "metadata": {},
   "source": [
    "## General Linear Models\n",
    "- You can spend the rest of your life studying linear models and their generalizations\n",
    "- In many situations, there are additional restrictions on the environment that cannot always be satisfied by a linear model\n",
    "    - The outcome/target variable might be a binary 0/1 outcome, so we are predicting the probability of something occuring. OLS might predict values less than zero or greater than one. Popular solutions are **Logit regression** or **Probit regression**\n",
    "    - The outcome/target variable might be a non-negative integer, meaning that it is **count data**, like the number of earthquakes or cases of an illness. OLS won't predict counts. Popular solutions are **Poisson regression** or **negative binomial regression**.\n",
    "- In these cases, we can estimate alternative models that impose restrictions on the outcome of the linear model, typically through maximum likelihood estimation or generalized linear modeling\n",
    "- These aren't typically much more work to estimate, but we don't really have the time to cover all the nuances (and people typically estimate them only if the OLS model really breaks down in terms of predictive performance)"
   ]
  },
  {
   "cell_type": "markdown",
   "id": "3e347c0b",
   "metadata": {},
   "source": [
    "## More examples"
   ]
  },
  {
   "cell_type": "markdown",
   "id": "3feba549",
   "metadata": {},
   "source": [
    "### Another SLR Example\n",
    "- Now that we understand SLR a bit better, let's do another case study, of Price versus Mileage"
   ]
  },
  {
   "cell_type": "code",
   "execution_count": 32,
   "id": "af397773",
   "metadata": {},
   "outputs": [
    {
     "data": {
      "text/plain": [
       "<Axes: >"
      ]
     },
     "execution_count": 32,
     "metadata": {},
     "output_type": "execute_result"
    },
    {
     "data": {
      "image/png": "[encoded data removed]",
      "text/plain": [
       "<Figure size 640x480 with 1 Axes>"
      ]
     },
     "metadata": {},
     "output_type": "display_data"
    }
   ],
   "source": [
    "df = df0 # Let's start over\n",
    "df['mileage_run'].describe()\n",
    "df['mileage_ihs'] = np.arcsinh(df['mileage_run'])\n",
    "df['price_ihs'] = np.arcsinh(df['price'])\n",
    "df.loc[:,['mileage_ihs','price_ihs']].plot.box()"
   ]
  },
  {
   "cell_type": "code",
   "execution_count": null,
   "id": "5187c1b8",
   "metadata": {},
   "outputs": [],
   "source": [
    "sns.scatterplot(data=df,y='price_ihs',x='mileage_ihs')"
   ]
  },
  {
   "cell_type": "code",
   "execution_count": null,
   "id": "185137d2",
   "metadata": {},
   "outputs": [],
   "source": [
    "sns.jointplot(data=df,y='price_ihs',x='mileage_ihs',kind='hex')"
   ]
  },
  {
   "cell_type": "code",
   "execution_count": 52,
   "id": "613f3155",
   "metadata": {},
   "outputs": [],
   "source": [
    "# Drop outliers:\n",
    "df = df.loc[df['mileage_ihs']>9,:] \n",
    "df = df.loc[df['mileage_ihs']<13,:]\n",
    "df = df.loc[df['price_ihs']>9,:] "
   ]
  },
  {
   "cell_type": "code",
   "execution_count": null,
   "id": "70156061",
   "metadata": {},
   "outputs": [],
   "source": [
    "sns.scatterplot(data=df,x='price_ihs',y='mileage_ihs')"
   ]
  },
  {
   "cell_type": "code",
   "execution_count": null,
   "id": "5a2e4fae",
   "metadata": {},
   "outputs": [],
   "source": [
    "x = df['mileage_ihs']\n",
    "y = df['price_ihs']\n",
    "\n",
    "coef = slr(x,y) # Single Linear Regression\n",
    "print('Intercept: ',coef['b0'], '\\n', ' Slope: ', coef['b1']) \n",
    "\n",
    "y_hat = coef['b0']+coef['b1']*x # Compute predictions\n",
    "\n",
    "# Scatter plot of fit:\n",
    "plt.scatter(x,y,label='Data')\n",
    "plt.plot(x,y_hat,label='Regression Line',color='black')\n",
    "plt.xlabel(\"Mileage, ihs\")\n",
    "plt.ylabel(\"Price, ihs\")\n",
    "plt.legend(loc='upper right')\n",
    "plt.title('Linear Regression')\n",
    "\n",
    "plt.show()"
   ]
  },
  {
   "cell_type": "code",
   "execution_count": null,
   "id": "2454f6ef",
   "metadata": {},
   "outputs": [],
   "source": [
    "df.sort_values('mileage_run',inplace=True) # Sorts the data by age of car\n",
    "\n",
    "x = df['mileage_run']\n",
    "y = df['price']\n",
    "coef = slr( df['mileage_ihs'], df['price_ihs'])\n",
    "y_hat = np.sinh(coef['b0']+coef['b1']*df['mileage_ihs']) # sinh is the inverse of arcsinh\n",
    "\n",
    "plt.scatter(x,y,label='Data')\n",
    "plt.plot(x,y_hat,label='Regression Line',color='black',linewidth=2)\n",
    "plt.xlabel(\"Mileage\")\n",
    "plt.ylabel(\"Price\")\n",
    "plt.legend(loc='upper right')\n",
    "plt.title('Linear Regression: Original Units')\n",
    "\n",
    "plt.show()"
   ]
  },
  {
   "cell_type": "code",
   "execution_count": null,
   "id": "5edce646",
   "metadata": {},
   "outputs": [],
   "source": [
    "# Without cleaning/feature engineering:\n",
    "x = df0['mileage_run']\n",
    "y = df0['price']\n",
    "\n",
    "coef = slr(x,y)\n",
    "\n",
    "y_hat = coef['b0']+coef['b1']*x\n",
    "\n",
    "plt.scatter(x,y,label='Data')\n",
    "plt.plot(x,y_hat,label='Regression Line',color='black')\n",
    "plt.xlabel(\"Mileage\")\n",
    "plt.ylabel(\"Price\")\n",
    "plt.legend(loc='upper right')\n",
    "plt.title('Linear Regression')\n",
    "plt.show()"
   ]
  },
  {
   "cell_type": "markdown",
   "id": "5823295e",
   "metadata": {},
   "source": [
    "### Cars, Again\n",
    "- Let's build some simple models to predict car prices that aren't constrained by our earlier concerns"
   ]
  },
  {
   "cell_type": "code",
   "execution_count": null,
   "id": "4513351c",
   "metadata": {},
   "outputs": [],
   "source": [
    "df = df0 # Let's start over, again\n",
    "df.head() # Glance at the data"
   ]
  },
  {
   "cell_type": "code",
   "execution_count": null,
   "id": "d62f2618",
   "metadata": {},
   "outputs": [],
   "source": [
    "## Simple regression on brand dummies:\n",
    "\n",
    "# Target Variable\n",
    "y = df['price']\n",
    "\n",
    "# Brand Dummy:\n",
    "X_d = pd.get_dummies(df['make'],dtype='int') # Create brand dummies\n",
    "\n",
    "# Regresion:\n",
    "from sklearn.linear_model import LinearRegression # Import linear regression model\n",
    "reg = LinearRegression(fit_intercept=False).fit(X_d, y) # Fit the linear model\n",
    "results = pd.DataFrame({'variable':reg.feature_names_in_, 'coefficient': reg.coef_}) # Regression coefficients\n",
    "print('R-squared: ', reg.score(X_d, y)) # R squared measure\n",
    "results"
   ]
  },
  {
   "cell_type": "code",
   "execution_count": null,
   "id": "d5d599ca",
   "metadata": {},
   "outputs": [],
   "source": [
    "## More complex regression on brand and numeric values:\n",
    "\n",
    "# Target Variable\n",
    "y = df['price_ihs']\n",
    "\n",
    "# Initial boxplot:\n",
    "df.loc[:,['mileage_ihs','price_ihs','age']].plot.box()\n",
    "\n",
    "# Winsorize using .apply:\n",
    "df.loc[:, ['mileage_ihs','price_ihs','age'] ] = df.loc[:,['mileage_ihs','price_ihs','age'] ].apply(winsorize)\n",
    "\n",
    "# Final boxplot:\n",
    "df.loc[:,['mileage_ihs','price_ihs','age']].plot.box()\n",
    "\n",
    "# Expand numeric variables:\n",
    "expander = PolynomialFeatures(degree=1,include_bias=False) # Create the expander\n",
    "X_num = df.loc[:,['mileage_ihs']]\n",
    "Z = expander.fit_transform(X_num) # Pass the df into the expander to get powers/interactions of x and y\n",
    "names = expander.get_feature_names_out() # Get the names of these variables\n",
    "X_num = pd.DataFrame(data=Z, columns = names) # Create a new, expanded dataframe\n",
    "\n",
    "# Concatenate\n",
    "X = pd.concat( [X_num, X_d],axis=1)\n",
    "X.head()"
   ]
  },
  {
   "cell_type": "markdown",
   "id": "d019588a",
   "metadata": {},
   "source": [
    "## Stop Here"
   ]
  },
  {
   "cell_type": "code",
   "execution_count": null,
   "id": "4f53fe3d",
   "metadata": {},
   "outputs": [],
   "source": [
    "from sklearn.linear_model import LinearRegression # Import linear regression model\n",
    "# Drop rows with missing values\n",
    "X = X.dropna()\n",
    "y = y[X.index]\n",
    "\n",
    "reg = LinearRegression(fit_intercept=False).fit(X, y) # Fit the linear model\n",
    "results = pd.DataFrame({'variable':reg.feature_names_in_, 'coefficient': reg.coef_}) # Regression coefficients\n",
    "print('R-squared: ', reg.score(X, y)) # R squared measure\n",
    "results"
   ]
  },
  {
   "cell_type": "code",
   "execution_count": null,
   "id": "0c4d9491",
   "metadata": {},
   "outputs": [],
   "source": [
    "sns.kdeplot(df['price_ihs'] -reg.predict(X) ) # Residual plot"
   ]
  }
 ],
 "metadata": {
  "kernelspec": {
   "display_name": "base",
   "language": "python",
   "name": "python3"
  },
  "language_info": {
   "codemirror_mode": {
    "name": "ipython",
    "version": 3
   },
   "file_extension": ".py",
   "mimetype": "text/x-python",
   "name": "python",
   "nbconvert_exporter": "python",
   "pygments_lexer": "ipython3",
   "version": "3.10.14"
  }
 },
 "nbformat": 4,
 "nbformat_minor": 5
}
